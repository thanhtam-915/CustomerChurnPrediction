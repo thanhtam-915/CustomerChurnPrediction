{
 "cells": [
  {
   "cell_type": "markdown",
   "metadata": {
    "id": "VV2gEbk-2HvU"
   },
   "source": [
    "# **Import Library**\n"
   ]
  },
  {
   "cell_type": "code",
   "execution_count": 2,
   "metadata": {
    "colab": {
     "base_uri": "https://localhost:8080/",
     "height": 1000
    },
    "executionInfo": {
     "elapsed": 761,
     "status": "error",
     "timestamp": 1735211793039,
     "user": {
      "displayName": "Tâm Lương",
      "userId": "09418611173666618637"
     },
     "user_tz": -420
    },
    "id": "3IcvaWhQ2G8_",
    "outputId": "d7e35b1c-3641-4fc9-b096-b97956d86a18"
   },
   "outputs": [],
   "source": [
    "import numpy as np\n",
    "import pandas as pd\n",
    "import matplotlib.pyplot as plt\n",
    "import seaborn as sns\n",
    "from scipy import stats\n",
    "from sklearn.preprocessing import OneHotEncoder\n",
    "from sklearn.preprocessing import StandardScaler\n",
    "from sklearn.preprocessing import MinMaxScaler\n",
    "import category_encoders as ce"
   ]
  },
  {
   "cell_type": "code",
   "execution_count": 3,
   "metadata": {
    "id": "6Hlbt18f293K"
   },
   "outputs": [],
   "source": [
    "from sklearn.model_selection import StratifiedKFold, cross_val_score, train_test_split\n",
    "from sklearn.metrics import confusion_matrix, classification_report, roc_curve, roc_auc_score, auc\n",
    "from sklearn.metrics import accuracy_score, precision_score, recall_score, f1_score\n",
    "from sklearn.metrics import confusion_matrix, ConfusionMatrixDisplay"
   ]
  },
  {
   "cell_type": "code",
   "execution_count": 4,
   "metadata": {
    "id": "wyjZ1HiXaVPq"
   },
   "outputs": [],
   "source": [
    "import shap\n",
    "from sklearn.decomposition import PCA"
   ]
  },
  {
   "cell_type": "code",
   "execution_count": 5,
   "metadata": {
    "id": "SBl2x3l42zUI"
   },
   "outputs": [],
   "source": [
    "from imblearn.over_sampling import SMOTE\n",
    "from imblearn.combine import SMOTEENN, SMOTETomek\n",
    "from imblearn.under_sampling import NearMiss"
   ]
  },
  {
   "cell_type": "code",
   "execution_count": 6,
   "metadata": {
    "id": "9Es0xe3c2muI"
   },
   "outputs": [],
   "source": [
    "from sklearn.linear_model import LogisticRegression\n",
    "from sklearn.ensemble import RandomForestClassifier\n",
    "from sklearn.ensemble import GradientBoostingClassifier\n",
    "from xgboost import XGBClassifier\n",
    "from sklearn.neighbors import KNeighborsClassifier"
   ]
  },
  {
   "cell_type": "code",
   "execution_count": 7,
   "metadata": {
    "id": "VwKy8BuW7Cf0"
   },
   "outputs": [],
   "source": [
    "from sklearn.model_selection import RandomizedSearchCV, GridSearchCV\n",
    "from skopt import BayesSearchCV"
   ]
  },
  {
   "cell_type": "markdown",
   "metadata": {
    "id": "9PrcVAp64EKl"
   },
   "source": [
    "# **Import Data**"
   ]
  },
  {
   "cell_type": "code",
   "execution_count": 8,
   "metadata": {
    "id": "evW0LPnd2q_Z"
   },
   "outputs": [],
   "source": [
    "customers_data = pd.read_csv(r\"D:\\NCKH\\CHURN PREDICTION\\CCP 03\\Code\\BankChurners.csv\")"
   ]
  },
  {
   "cell_type": "code",
   "execution_count": null,
   "metadata": {
    "colab": {
     "base_uri": "https://localhost:8080/"
    },
    "executionInfo": {
     "elapsed": 1292,
     "status": "ok",
     "timestamp": 1735211231368,
     "user": {
      "displayName": "Tâm Lương",
      "userId": "09418611173666618637"
     },
     "user_tz": -420
    },
    "id": "QLE72HJ74mV0",
    "outputId": "9227142d-cdaa-44d3-c422-271b02f8494a"
   },
   "outputs": [],
   "source": [
    "customers_data.sample(5)"
   ]
  },
  {
   "cell_type": "code",
   "execution_count": null,
   "metadata": {
    "colab": {
     "base_uri": "https://localhost:8080/"
    },
    "collapsed": true,
    "executionInfo": {
     "elapsed": 5,
     "status": "ok",
     "timestamp": 1735211231368,
     "user": {
      "displayName": "Tâm Lương",
      "userId": "09418611173666618637"
     },
     "user_tz": -420
    },
    "id": "7lZPTolY5JZ3",
    "jupyter": {
     "outputs_hidden": true
    },
    "outputId": "156049d8-b48d-410c-9b45-bcbc5dea3fe4"
   },
   "outputs": [],
   "source": [
    "customers_data.columns"
   ]
  },
  {
   "cell_type": "code",
   "execution_count": 11,
   "metadata": {
    "id": "BY8-jThn5Jzr"
   },
   "outputs": [],
   "source": [
    "customers_data.drop(columns=['CLIENTNUM',\n",
    "        'Naive_Bayes_Classifier_Attrition_Flag_Card_Category_Contacts_Count_12_mon_Dependent_count_Education_Level_Months_Inactive_12_mon_1',\n",
    "       'Naive_Bayes_Classifier_Attrition_Flag_Card_Category_Contacts_Count_12_mon_Dependent_count_Education_Level_Months_Inactive_12_mon_2'], inplace=True)"
   ]
  },
  {
   "cell_type": "code",
   "execution_count": 12,
   "metadata": {
    "id": "ghullD155YLw"
   },
   "outputs": [],
   "source": [
    "demography = ['Gender','Dependent_count','Education_Level','Marital_Status','Income_Category']\n"
   ]
  },
  {
   "cell_type": "code",
   "execution_count": 13,
   "metadata": {
    "id": "z_IV1d0355w4"
   },
   "outputs": [],
   "source": [
    "number = ['Dependent_count','Total_Relationship_Count','Contacts_Count_12_mon',\n",
    "        'Avg_Utilization_Ratio','Total_Amt_Chng_Q4_Q1','Total_Ct_Chng_Q4_Q1','Months_Inactive_12_mon']\n",
    "numeric_cols = list(f for f in customers_data.columns if customers_data[f].dtype != 'O')"
   ]
  },
  {
   "cell_type": "markdown",
   "metadata": {
    "id": "FK-TTfUBOD6s",
    "jp-MarkdownHeadingCollapsed": true
   },
   "source": [
    "# **EDA**"
   ]
  },
  {
   "cell_type": "markdown",
   "metadata": {
    "id": "HiGxGwl_OUg6"
   },
   "source": [
    "## Demography"
   ]
  },
  {
   "cell_type": "code",
   "execution_count": null,
   "metadata": {
    "colab": {
     "base_uri": "https://localhost:8080/"
    },
    "collapsed": true,
    "executionInfo": {
     "elapsed": 1015,
     "status": "ok",
     "timestamp": 1735211235307,
     "user": {
      "displayName": "Tâm Lương",
      "userId": "09418611173666618637"
     },
     "user_tz": -420
    },
    "id": "hgyiIUq45EKD",
    "jupyter": {
     "outputs_hidden": true
    },
    "outputId": "2a1d0bb9-6321-46f2-cde8-57d726782698"
   },
   "outputs": [],
   "source": [
    "card_counts = customers_data['Card_Category'].value_counts()\n",
    "\n",
    "ax = card_counts.plot(kind='bar', figsize=(10, 7), color='#213A57')\n",
    "\n",
    "plt.title('Distribution of Card Categories')\n",
    "plt.xlabel('Card Category')\n",
    "plt.ylabel('Number of Customers')\n",
    "plt.xticks(rotation=0)\n",
    "plt.tight_layout()\n",
    "\n",
    "for p in ax.patches:\n",
    "    ax.annotate(f'{int(p.get_height())}',\n",
    "                (p.get_x() + p.get_width() / 2, p.get_height()),\n",
    "                ha='center', va='bottom', fontsize=10)\n",
    "\n",
    "plt.show()"
   ]
  },
  {
   "cell_type": "code",
   "execution_count": null,
   "metadata": {
    "colab": {
     "base_uri": "https://localhost:8080/"
    },
    "executionInfo": {
     "elapsed": 3571,
     "status": "ok",
     "timestamp": 1735211238876,
     "user": {
      "displayName": "Tâm Lương",
      "userId": "09418611173666618637"
     },
     "user_tz": -420
    },
    "id": "yJD3aZ1CqFnE",
    "outputId": "2af5c856-680e-4b8a-94b2-8ffe2d1ede07"
   },
   "outputs": [],
   "source": [
    "sns.jointplot(data=customers_data, x=\"Total_Trans_Ct\", y=\"Total_Ct_Chng_Q4_Q1\", hue=\"Attrition_Flag\", kind=\"scatter\")\n",
    "\n",
    "plt.title(\"Distribution of bank customer churn label\",  y=-0.2, fontsize=14, fontweight='bold')\n",
    "plt.xlabel(\"Total_Trans_Ct\")\n",
    "plt.ylabel(\"Total_Ct_Chng_Q4_Q1\")\n",
    "\n",
    "plt.show()"
   ]
  },
  {
   "cell_type": "code",
   "execution_count": null,
   "metadata": {
    "colab": {
     "base_uri": "https://localhost:8080/"
    },
    "executionInfo": {
     "elapsed": 3064,
     "status": "ok",
     "timestamp": 1735211241937,
     "user": {
      "displayName": "Tâm Lương",
      "userId": "09418611173666618637"
     },
     "user_tz": -420
    },
    "id": "L57x7F3aTOei",
    "outputId": "1b1c05f3-84fb-47bc-d953-09b4986aca75"
   },
   "outputs": [],
   "source": [
    "for col in demography:\n",
    "    customers_data[col].value_counts().plot(kind='bar')\n",
    "    plt.show()"
   ]
  },
  {
   "cell_type": "code",
   "execution_count": null,
   "metadata": {
    "colab": {
     "base_uri": "https://localhost:8080/"
    },
    "executionInfo": {
     "elapsed": 5287,
     "status": "ok",
     "timestamp": 1735211247222,
     "user": {
      "displayName": "Tâm Lương",
      "userId": "09418611173666618637"
     },
     "user_tz": -420
    },
    "id": "ranYU37aTR3m",
    "outputId": "f1bbf2f4-e2e9-47c4-ef2f-e0aff8e7d821"
   },
   "outputs": [],
   "source": [
    "def barplot_category(customers_data, column, ax):\n",
    "    data_counts = customers_data[column].value_counts()\n",
    "    ax.barh(data_counts.index, data_counts.values)\n",
    "    ax.set_title(f'Barplot of {column}')\n",
    "    ax.set_xlabel('Quantity')\n",
    "\n",
    "fig, ax = plt.subplots(3, 2, figsize=(12, 15))\n",
    "x = 0\n",
    "y = 0\n",
    "for col in demography:\n",
    "    barplot_category(customers_data, col, ax[x, y])\n",
    "    if y == 1:\n",
    "        x += 1\n",
    "        y = 0\n",
    "    else:\n",
    "        y += 1\n",
    "barplot_category(customers_data, 'Card_Category', ax[2,1])\n",
    "plt.subplots_adjust(hspace=0.5, wspace=0.4)\n",
    "\n",
    "plt.tight_layout()\n",
    "plt.show()"
   ]
  },
  {
   "cell_type": "markdown",
   "metadata": {
    "id": "djQsrpjiS4TD"
   },
   "source": [
    "## Data distribution\n",
    "\n"
   ]
  },
  {
   "cell_type": "code",
   "execution_count": null,
   "metadata": {
    "colab": {
     "base_uri": "https://localhost:8080/"
    },
    "executionInfo": {
     "elapsed": 1385,
     "status": "ok",
     "timestamp": 1735211248604,
     "user": {
      "displayName": "Tâm Lương",
      "userId": "09418611173666618637"
     },
     "user_tz": -420
    },
    "id": "fGGOyvX1ThJm",
    "outputId": "6da34586-b100-4144-87c6-5d773023a7ad"
   },
   "outputs": [],
   "source": [
    "number = ['Dependent_count','Total_Relationship_Count','Contacts_Count_12_mon',\n",
    "        'Avg_Utilization_Ratio','Total_Amt_Chng_Q4_Q1','Total_Ct_Chng_Q4_Q1','Months_Inactive_12_mon']\n",
    "plt.figure(figsize=(10, 6))\n",
    "sns.boxplot(data=customers_data.loc[:,number], orient='h', palette=\"Blues\");\n",
    "plt.show()"
   ]
  },
  {
   "cell_type": "code",
   "execution_count": null,
   "metadata": {
    "colab": {
     "base_uri": "https://localhost:8080/"
    },
    "executionInfo": {
     "elapsed": 3787,
     "status": "ok",
     "timestamp": 1735211252389,
     "user": {
      "displayName": "Tâm Lương",
      "userId": "09418611173666618637"
     },
     "user_tz": -420
    },
    "id": "cTKuVhxTTquH",
    "outputId": "5ba3cf67-61e2-4cf4-a003-6a1123d249ac"
   },
   "outputs": [],
   "source": [
    "def boxplot_numerical(customers_data, column, ax):\n",
    "    churn_data = customers_data[column]\n",
    "    ax.boxplot(churn_data, vert=False)\n",
    "    ax.set_title(f'Boxplot Chart of {column}')\n",
    "fig, ax = plt.subplots(7, 2, figsize=(12, 20))\n",
    "x = 0\n",
    "y = 0\n",
    "for col in numeric_cols:\n",
    "    boxplot_numerical(customers_data, col, ax[x,y])\n",
    "    if y == 1:\n",
    "        x += 1\n",
    "        y = 0\n",
    "    else:\n",
    "        y += 1\n",
    "plt.subplots_adjust(hspace=0.5, wspace=0.4)"
   ]
  },
  {
   "cell_type": "code",
   "execution_count": null,
   "metadata": {
    "colab": {
     "base_uri": "https://localhost:8080/"
    },
    "executionInfo": {
     "elapsed": 2416,
     "status": "ok",
     "timestamp": 1735211254800,
     "user": {
      "displayName": "Tâm Lương",
      "userId": "09418611173666618637"
     },
     "user_tz": -420
    },
    "id": "peIJydcXTvl8",
    "outputId": "5a85fb0d-f0a2-4b32-e792-c70b6399361a"
   },
   "outputs": [],
   "source": [
    "hist_var = ['Credit_Limit','Total_Revolving_Bal','Avg_Open_To_Buy','Total_Trans_Amt','Total_Trans_Ct']\n",
    "hist_name = ['Credit Limit', 'Total Revolving Bal', 'Avg Open To Buy', 'Total Trans Amt', 'Total Trans Ct']\n",
    "for i, col in enumerate(hist_var):\n",
    "    # plt.subplot(3, 2, i + 1)\n",
    "    # plt.subplots_adjust(wspace=0.5, hspace=0.7)  # Arrange histograms in a 2x3 grid\n",
    "    plt.hist(customers_data[col], bins=50)\n",
    "\n",
    "    plt.title(hist_name[i])\n",
    "\n",
    "    plt.show()"
   ]
  },
  {
   "cell_type": "markdown",
   "metadata": {
    "id": "Yb_Z2QnKSx8H"
   },
   "source": [
    "## Distribution of Churn"
   ]
  },
  {
   "cell_type": "code",
   "execution_count": null,
   "metadata": {
    "colab": {
     "base_uri": "https://localhost:8080/"
    },
    "executionInfo": {
     "elapsed": 2633,
     "status": "ok",
     "timestamp": 1735211257431,
     "user": {
      "displayName": "Tâm Lương",
      "userId": "09418611173666618637"
     },
     "user_tz": -420
    },
    "id": "NztzpoOEOYLo",
    "outputId": "a9aad029-8008-4d1e-fa0e-c3bb9004297d"
   },
   "outputs": [],
   "source": [
    "def plot_churn_rate(customers_data, column, ax):\n",
    "    churn_data = customers_data.groupby([column, 'Attrition_Flag']).size().unstack().fillna(0)\n",
    "    churn_data.plot(kind='bar', stacked=True, ax=ax)\n",
    "    ax.set_ylabel('Quantity')\n",
    "    ax.set_title(f'Number of churned customer by {column}')\n",
    "    ax.legend(title='Churn', labels=['Churn (1)', 'No Churn (0)'])\n",
    "\n",
    "fig, ax = plt.subplots(2, 3, figsize=(15, 10))\n",
    "\n",
    "plot_churn_rate(customers_data, 'Gender', ax[0,0])\n",
    "plot_churn_rate(customers_data, 'Dependent_count', ax[0, 1])\n",
    "plot_churn_rate(customers_data, 'Education_Level', ax[0, 2])\n",
    "plot_churn_rate(customers_data, 'Marital_Status', ax[1, 0])\n",
    "plot_churn_rate(customers_data, 'Income_Category', ax[1, 1])\n",
    "plot_churn_rate(customers_data, 'Card_Category', ax[1, 2])\n",
    "\n",
    "plt.tight_layout()\n",
    "plt.show()"
   ]
  },
  {
   "cell_type": "markdown",
   "metadata": {
    "id": "7yPtH81ePTMt"
   },
   "source": [
    "## Correlation"
   ]
  },
  {
   "cell_type": "code",
   "execution_count": 94,
   "metadata": {
    "id": "QVl0qfASPZHo"
   },
   "outputs": [],
   "source": [
    "customers_data_numerical = customers_data.loc[:,numeric_cols]"
   ]
  },
  {
   "cell_type": "code",
   "execution_count": null,
   "metadata": {
    "colab": {
     "base_uri": "https://localhost:8080/"
    },
    "executionInfo": {
     "elapsed": 1648,
     "status": "ok",
     "timestamp": 1735211259077,
     "user": {
      "displayName": "Tâm Lương",
      "userId": "09418611173666618637"
     },
     "user_tz": -420
    },
    "id": "pJm5MB3dPVcY",
    "outputId": "fd0f5643-3e1b-4777-c8b6-499c8919d3e8"
   },
   "outputs": [],
   "source": [
    "corr_matrix = customers_data_numerical.corr()\n",
    "\n",
    "plt.figure(figsize=(12, 10))\n",
    "sns.heatmap(corr_matrix, annot=True, fmt='.3f', cmap='coolwarm', linewidths=0.5)"
   ]
  },
  {
   "cell_type": "code",
   "execution_count": null,
   "metadata": {
    "colab": {
     "base_uri": "https://localhost:8080/"
    },
    "executionInfo": {
     "elapsed": 1195,
     "status": "ok",
     "timestamp": 1735211260270,
     "user": {
      "displayName": "Tâm Lương",
      "userId": "09418611173666618637"
     },
     "user_tz": -420
    },
    "id": "dXs4QSJnQucp",
    "outputId": "c1e847bb-8253-4d40-9413-8fec4dd7392d"
   },
   "outputs": [],
   "source": [
    "sns.scatterplot(x='Credit_Limit', y='Avg_Open_To_Buy', data=customers_data_numerical)\n",
    "plt.xlabel('Credit Limit');\n",
    "plt.ylabel('Average Open to Buy');\n",
    "plt.title('The correlational relationship between Credit_Limit and Avg_Open_To_Buy');"
   ]
  },
  {
   "cell_type": "code",
   "execution_count": null,
   "metadata": {
    "colab": {
     "base_uri": "https://localhost:8080/"
    },
    "executionInfo": {
     "elapsed": 12,
     "status": "ok",
     "timestamp": 1735211260271,
     "user": {
      "displayName": "Tâm Lương",
      "userId": "09418611173666618637"
     },
     "user_tz": -420
    },
    "id": "Zy8-aaJlQ25G",
    "outputId": "6bd5da08-9327-4f60-f68a-a42f7958cb08"
   },
   "outputs": [],
   "source": [
    "customers_data_numerical.columns"
   ]
  },
  {
   "cell_type": "code",
   "execution_count": null,
   "metadata": {
    "colab": {
     "base_uri": "https://localhost:8080/"
    },
    "executionInfo": {
     "elapsed": 11,
     "status": "ok",
     "timestamp": 1735211260271,
     "user": {
      "displayName": "Tâm Lương",
      "userId": "09418611173666618637"
     },
     "user_tz": -420
    },
    "id": "N4QgVj4dQue9",
    "outputId": "3852ef3e-86a6-44b4-ac4d-249aafb7edd0"
   },
   "outputs": [],
   "source": [
    "sns.scatterplot(x='Total_Trans_Ct', y='Total_Trans_Amt', data=customers_data_numerical)\n",
    "plt.xlabel('Total_Trans_Ct');\n",
    "plt.ylabel('Total_Trans_Amt');\n",
    "plt.title('The correlational relationship between Total_Trans_Ct and Total_Trans_Amt');"
   ]
  },
  {
   "cell_type": "markdown",
   "metadata": {
    "id": "UlzybY0gUEbl"
   },
   "source": [
    "# **DATA PREPROCESSING**"
   ]
  },
  {
   "cell_type": "code",
   "execution_count": 17,
   "metadata": {
    "id": "LLVyxoKtUGZM"
   },
   "outputs": [],
   "source": [
    "dataset = customers_data.copy()"
   ]
  },
  {
   "cell_type": "code",
   "execution_count": null,
   "metadata": {
    "colab": {
     "base_uri": "https://localhost:8080/"
    },
    "executionInfo": {
     "elapsed": 5,
     "status": "ok",
     "timestamp": 1735211266959,
     "user": {
      "displayName": "Tâm Lương",
      "userId": "09418611173666618637"
     },
     "user_tz": -420
    },
    "id": "6S95vr2kVVmz",
    "outputId": "cdc9dd10-76ae-4ba8-a3a4-30ea19bf03b2"
   },
   "outputs": [],
   "source": [
    "dataset.sample()"
   ]
  },
  {
   "cell_type": "markdown",
   "metadata": {
    "id": "0wgiWRGUV03z"
   },
   "source": [
    "## Remove Ouliers"
   ]
  },
  {
   "cell_type": "code",
   "execution_count": 19,
   "metadata": {
    "id": "LZ2S6ZiOVyFX"
   },
   "outputs": [],
   "source": [
    "numeric_cols_outlier = list(f for f in dataset.columns if dataset[f].dtype != 'O')\n",
    "z_scores = np.abs(stats.zscore(customers_data.loc[:, numeric_cols_outlier]))\n",
    "\n",
    "dataset_no_outlier = customers_data[(z_scores < 3).all(axis=1)]"
   ]
  },
  {
   "cell_type": "code",
   "execution_count": 20,
   "metadata": {
    "id": "ErURDJOMWAFP"
   },
   "outputs": [],
   "source": [
    "dataset_no_outlier.reset_index(drop=True, inplace=True)"
   ]
  },
  {
   "cell_type": "code",
   "execution_count": null,
   "metadata": {
    "colab": {
     "base_uri": "https://localhost:8080/"
    },
    "executionInfo": {
     "elapsed": 5,
     "status": "ok",
     "timestamp": 1735211266960,
     "user": {
      "displayName": "Tâm Lương",
      "userId": "09418611173666618637"
     },
     "user_tz": -420
    },
    "id": "Umynuq7zWHJ3",
    "outputId": "fe222ee6-d237-44c7-8c40-e9d999f1b1d4"
   },
   "outputs": [],
   "source": [
    "dataset_no_outlier.shape"
   ]
  },
  {
   "cell_type": "code",
   "execution_count": null,
   "metadata": {
    "colab": {
     "base_uri": "https://localhost:8080/"
    },
    "executionInfo": {
     "elapsed": 348,
     "status": "ok",
     "timestamp": 1735211267304,
     "user": {
      "displayName": "Tâm Lương",
      "userId": "09418611173666618637"
     },
     "user_tz": -420
    },
    "id": "twzsjH_XWTm5",
    "outputId": "470151ef-357f-4cbc-8ed9-4ad15c6a2dd1"
   },
   "outputs": [],
   "source": [
    "dataset_no_outlier.sample()"
   ]
  },
  {
   "cell_type": "markdown",
   "metadata": {
    "id": "RNgi6FQkWN0H"
   },
   "source": [
    "## Encoder"
   ]
  },
  {
   "cell_type": "code",
   "execution_count": null,
   "metadata": {
    "colab": {
     "base_uri": "https://localhost:8080/"
    },
    "executionInfo": {
     "elapsed": 11,
     "status": "ok",
     "timestamp": 1735211267304,
     "user": {
      "displayName": "Tâm Lương",
      "userId": "09418611173666618637"
     },
     "user_tz": -420
    },
    "id": "sj77EpGdWJDs",
    "outputId": "7f2eb1d8-dd12-4c36-8f72-d9a20f6ed62d"
   },
   "outputs": [],
   "source": [
    "dataset_no_outlier['Attrition_Flag'] = dataset_no_outlier['Attrition_Flag'].str.strip()\n",
    "dataset_no_outlier['Attrition_Flag'] = dataset_no_outlier['Attrition_Flag'].map({'Attrited Customer': 1, 'Existing Customer': 0})"
   ]
  },
  {
   "cell_type": "code",
   "execution_count": null,
   "metadata": {
    "colab": {
     "base_uri": "https://localhost:8080/"
    },
    "executionInfo": {
     "elapsed": 10,
     "status": "ok",
     "timestamp": 1735211267304,
     "user": {
      "displayName": "Tâm Lương",
      "userId": "09418611173666618637"
     },
     "user_tz": -420
    },
    "id": "MdN5um_wWW4j",
    "outputId": "5cc46924-cb42-4f61-a01b-8077b9315bb0"
   },
   "outputs": [],
   "source": [
    "dataset_no_outlier['Gender'] = dataset_no_outlier['Gender'].map({'M': 1, 'F': 0})"
   ]
  },
  {
   "cell_type": "markdown",
   "metadata": {
    "id": "r0AffURDYY0h"
   },
   "source": [
    "## One-hot encoding"
   ]
  },
  {
   "cell_type": "code",
   "execution_count": 25,
   "metadata": {
    "id": "xBzwy7YkYU79"
   },
   "outputs": [],
   "source": [
    "pd.set_option('display.max_columns', None)"
   ]
  },
  {
   "cell_type": "code",
   "execution_count": null,
   "metadata": {
    "colab": {
     "base_uri": "https://localhost:8080/"
    },
    "executionInfo": {
     "elapsed": 10,
     "status": "ok",
     "timestamp": 1735211267305,
     "user": {
      "displayName": "Tâm Lương",
      "userId": "09418611173666618637"
     },
     "user_tz": -420
    },
    "id": "U_R9oXFEYhjc",
    "outputId": "1e433156-21eb-479f-ce99-c315c0db74a9"
   },
   "outputs": [],
   "source": [
    "# colsx=['Education_Level', 'Marital_Status', 'Income_Category', 'Card_Category']\n",
    "customers_data['Income_Category'].value_counts()"
   ]
  },
  {
   "cell_type": "code",
   "execution_count": null,
   "metadata": {
    "colab": {
     "base_uri": "https://localhost:8080/"
    },
    "executionInfo": {
     "elapsed": 9,
     "status": "ok",
     "timestamp": 1735211267305,
     "user": {
      "displayName": "Tâm Lương",
      "userId": "09418611173666618637"
     },
     "user_tz": -420
    },
    "id": "5ejxABroYdtK",
    "outputId": "b0a39f72-a1f8-4236-83f7-34215903baa8"
   },
   "outputs": [],
   "source": [
    "he = ce.HashingEncoder(cols=['Education_Level', 'Marital_Status', 'Income_Category', 'Card_Category'])\n",
    "dataset_no_outlier_hash = he.fit_transform(dataset_no_outlier)\n",
    "dataset_no_outlier_hash"
   ]
  },
  {
   "cell_type": "code",
   "execution_count": null,
   "metadata": {
    "colab": {
     "base_uri": "https://localhost:8080/"
    },
    "executionInfo": {
     "elapsed": 464,
     "status": "ok",
     "timestamp": 1735211267762,
     "user": {
      "displayName": "Tâm Lương",
      "userId": "09418611173666618637"
     },
     "user_tz": -420
    },
    "id": "xcHDtjmGZRZO",
    "outputId": "839d0969-cbac-4a68-c0d3-2aa94f769c27"
   },
   "outputs": [],
   "source": [
    "dataset_no_outlier_hash.shape"
   ]
  },
  {
   "cell_type": "markdown",
   "metadata": {
    "id": "RAr5Hu5sZDoY"
   },
   "source": [
    "## Scale"
   ]
  },
  {
   "cell_type": "code",
   "execution_count": 29,
   "metadata": {
    "id": "3K_Rrw4cZHRu"
   },
   "outputs": [],
   "source": [
    "scaler = StandardScaler()\n",
    "\n",
    "standard_Columns = ['Customer_Age', 'Months_on_book']\n",
    "\n",
    "scaled_values = scaler.fit_transform(dataset_no_outlier_hash[standard_Columns])\n",
    "\n",
    "dataset_no_outlier_hash[standard_Columns] = scaled_values"
   ]
  },
  {
   "cell_type": "code",
   "execution_count": 30,
   "metadata": {
    "id": "_LpyMJCIZX6x"
   },
   "outputs": [],
   "source": [
    "scale_columns = ['Total_Revolving_Bal', 'Total_Trans_Amt', 'Total_Trans_Ct','Avg_Open_To_Buy']\n",
    "\n",
    "scaler = MinMaxScaler()\n",
    "dataset_no_outlier_hash[scale_columns] = scaler.fit_transform(dataset_no_outlier_hash[scale_columns])"
   ]
  },
  {
   "cell_type": "code",
   "execution_count": null,
   "metadata": {
    "colab": {
     "base_uri": "https://localhost:8080/"
    },
    "executionInfo": {
     "elapsed": 2,
     "status": "ok",
     "timestamp": 1735211267762,
     "user": {
      "displayName": "Tâm Lương",
      "userId": "09418611173666618637"
     },
     "user_tz": -420
    },
    "id": "oqum0iTeZZIc",
    "outputId": "a218a784-2f1b-42b8-ec2b-cc8a0f4e9e95"
   },
   "outputs": [],
   "source": [
    "dataset_no_outlier_hash.shape"
   ]
  },
  {
   "cell_type": "markdown",
   "metadata": {
    "id": "TIqlC_72Zxqu"
   },
   "source": [
    "## Process High Correlation"
   ]
  },
  {
   "cell_type": "code",
   "execution_count": 32,
   "metadata": {
    "id": "enSN60-0Z2Yx"
   },
   "outputs": [],
   "source": [
    "dataset_no_outlier_hash.drop(columns=['Credit_Limit'], inplace=True)"
   ]
  },
  {
   "cell_type": "code",
   "execution_count": 33,
   "metadata": {
    "id": "I5vrF7OtaBB7"
   },
   "outputs": [],
   "source": [
    "X = dataset_no_outlier_hash[['Total_Trans_Ct', 'Total_Trans_Amt']]\n",
    "\n",
    "pca = PCA(n_components=1)\n",
    "pca_result = pca.fit_transform(X)\n",
    "\n",
    "dataset_no_outlier_hash['PCA_Trans'] = pca_result"
   ]
  },
  {
   "cell_type": "code",
   "execution_count": null,
   "metadata": {
    "colab": {
     "base_uri": "https://localhost:8080/"
    },
    "executionInfo": {
     "elapsed": 921,
     "status": "ok",
     "timestamp": 1735211268681,
     "user": {
      "displayName": "Tâm Lương",
      "userId": "09418611173666618637"
     },
     "user_tz": -420
    },
    "id": "fluzEnZd8ss2",
    "outputId": "e092b991-e372-4d7c-9128-cdc9389a94a2"
   },
   "outputs": [],
   "source": [
    "sns.scatterplot(x='Total_Trans_Ct', y='PCA_Trans', data=dataset_no_outlier_hash)\n",
    "plt.xlabel('Total_Trans_Ct');\n",
    "plt.ylabel('PCA_Trans');\n",
    "plt.title('The correlational relationship between Total_Trans_Ct and PCA_Trans');"
   ]
  },
  {
   "cell_type": "code",
   "execution_count": null,
   "metadata": {
    "colab": {
     "base_uri": "https://localhost:8080/"
    },
    "executionInfo": {
     "elapsed": 8,
     "status": "ok",
     "timestamp": 1735211268681,
     "user": {
      "displayName": "Tâm Lương",
      "userId": "09418611173666618637"
     },
     "user_tz": -420
    },
    "id": "43nFOIRS9R-T",
    "outputId": "936f535a-f6bd-477b-db1f-42abd013302d"
   },
   "outputs": [],
   "source": [
    "correlation = dataset_no_outlier_hash['Total_Trans_Ct'].corr(dataset_no_outlier_hash['PCA_Trans'])\n",
    "print(f\"Hệ số tương quan giữa 'Total_Trans_Ct' và 'PCA_Trans': {correlation}\")"
   ]
  },
  {
   "cell_type": "code",
   "execution_count": 36,
   "metadata": {
    "id": "H69qVe9z8u3e"
   },
   "outputs": [],
   "source": [
    "dataset_no_outlier_hash.drop(columns=['Total_Trans_Ct', 'Total_Trans_Amt'], inplace=True)"
   ]
  },
  {
   "cell_type": "code",
   "execution_count": null,
   "metadata": {
    "colab": {
     "base_uri": "https://localhost:8080/"
    },
    "executionInfo": {
     "elapsed": 6,
     "status": "ok",
     "timestamp": 1735211268681,
     "user": {
      "displayName": "Tâm Lương",
      "userId": "09418611173666618637"
     },
     "user_tz": -420
    },
    "id": "TyJDg6V0cQL6",
    "outputId": "c32efcff-70cf-49bb-f085-74d4a46ca417"
   },
   "outputs": [],
   "source": [
    "dataset_no_outlier_hash.shape"
   ]
  },
  {
   "cell_type": "code",
   "execution_count": null,
   "metadata": {
    "colab": {
     "base_uri": "https://localhost:8080/"
    },
    "executionInfo": {
     "elapsed": 6,
     "status": "ok",
     "timestamp": 1735211268682,
     "user": {
      "displayName": "Tâm Lương",
      "userId": "09418611173666618637"
     },
     "user_tz": -420
    },
    "id": "J3eH8DkdcF-9",
    "outputId": "22646cd8-0cf1-4fb8-fa7c-b7ce3b4d3694"
   },
   "outputs": [],
   "source": [
    "dataset_no_outlier_hash.info()"
   ]
  },
  {
   "cell_type": "markdown",
   "metadata": {
    "id": "J8X1CoH6dP18",
    "jp-MarkdownHeadingCollapsed": true
   },
   "source": [
    "# **Imbalance Data Handling**"
   ]
  },
  {
   "cell_type": "code",
   "execution_count": 39,
   "metadata": {
    "id": "p39qUfsQdVgy"
   },
   "outputs": [],
   "source": [
    "Xraw = dataset_no_outlier_hash.drop(columns=['Attrition_Flag'], axis = 1)\n",
    "yraw = dataset_no_outlier_hash['Attrition_Flag']"
   ]
  },
  {
   "cell_type": "code",
   "execution_count": 40,
   "metadata": {
    "id": "6TsQk1Ttd90X"
   },
   "outputs": [],
   "source": [
    "kfold = StratifiedKFold(n_splits=10, shuffle=True, random_state=42)"
   ]
  },
  {
   "cell_type": "code",
   "execution_count": null,
   "metadata": {
    "colab": {
     "base_uri": "https://localhost:8080/",
     "height": 1000
    },
    "executionInfo": {
     "elapsed": 29158,
     "status": "ok",
     "timestamp": 1735116517298,
     "user": {
      "displayName": "Tâm Lương",
      "userId": "09418611173666618637"
     },
     "user_tz": -420
    },
    "id": "niimLjxt4N7q",
    "outputId": "251f951e-0261-44e3-aa82-ae611e2693dc"
   },
   "outputs": [],
   "source": [
    "sampling_methods = {\n",
    "    \"SMOTE\": SMOTE(random_state=42),\n",
    "    \"SMOTEENN\": SMOTEENN(random_state=42),\n",
    "    \"SMOTE TomekLink\": SMOTETomek(random_state=42),\n",
    "    \"NearMiss\": NearMiss()\n",
    "}\n",
    "\n",
    "model = XGBClassifier(random_state=42, eval_metric='logloss')\n",
    "\n",
    "results = {\n",
    "    method: {\"accuracy\": [], \"precision\": [], \"recall\": [], \"f1_score\": [], \"conf_matrix\": []}\n",
    "    for method in sampling_methods.keys()\n",
    "}\n",
    "\n",
    "for sampling_name, sampling_method in sampling_methods.items():\n",
    "    accuracy_list = []\n",
    "    precision_list = []\n",
    "    recall_list = []\n",
    "    f1_score_list = []\n",
    "    conf_matrices = []\n",
    "\n",
    "    X_resampled, y_resampled = sampling_method.fit_resample(Xraw, yraw)\n",
    "\n",
    "    for train_index, test_index in kfold.split(X_resampled, y_resampled):\n",
    "        X_train, X_test = X_resampled.iloc[train_index, :], X_resampled.iloc[test_index, :]\n",
    "        y_train, y_test = y_resampled.iloc[train_index], y_resampled.iloc[test_index]\n",
    "\n",
    "        # Train the model\n",
    "        model.fit(X_train, y_train)\n",
    "        y_pred = model.predict(X_test)\n",
    "\n",
    "        # Calculate metrics\n",
    "        accuracy_list.append(accuracy_score(y_test, y_pred))\n",
    "        precision_list.append(precision_score(y_test, y_pred))\n",
    "        recall_list.append(recall_score(y_test, y_pred))\n",
    "        f1_score_list.append(f1_score(y_test, y_pred))\n",
    "\n",
    "        # Store confusion matrix\n",
    "        conf_matrices.append(confusion_matrix(y_test, y_pred))\n",
    "\n",
    "    # Average metrics over folds\n",
    "    accuracy_avg = np.mean(accuracy_list)\n",
    "    precision_avg = np.mean(precision_list)\n",
    "    recall_avg = np.mean(recall_list)\n",
    "    f1_score_avg = np.mean(f1_score_list)\n",
    "\n",
    "    # Average confusion matrix\n",
    "    avg_conf_matrix = np.mean(conf_matrices, axis=0)\n",
    "\n",
    "    # Store results\n",
    "    results[sampling_name][\"accuracy\"].append(accuracy_avg)\n",
    "    results[sampling_name][\"precision\"].append(precision_avg)\n",
    "    results[sampling_name][\"recall\"].append(recall_avg)\n",
    "    results[sampling_name][\"f1_score\"].append(f1_score_avg)\n",
    "    results[sampling_name][\"conf_matrix\"].append(avg_conf_matrix)\n",
    "\n",
    "    # Plot confusion matrix for each method\n",
    "    plt.figure(figsize=(8, 6))\n",
    "    sns.heatmap(avg_conf_matrix, annot=True, fmt=\".2f\", cmap=\"Blues\", cbar=True)\n",
    "    plt.title(f\"Average Confusion Matrix ({sampling_name})\")\n",
    "    plt.xlabel(\"Predicted label\")\n",
    "    plt.ylabel(\"True label\")\n",
    "    plt.show()\n",
    "\n",
    "# Create DataFrame with results\n",
    "results_df1 = pd.DataFrame({\n",
    "    'Sampling Method': list(results.keys()),\n",
    "    'Accuracy': [results[sampling_name][\"accuracy\"][0] for sampling_name in results.keys()],\n",
    "    'Precision': [results[sampling_name][\"precision\"][0] for sampling_name in results.keys()],\n",
    "    'Recall': [results[sampling_name][\"recall\"][0] for sampling_name in results.keys()],\n",
    "    'F1 Score': [results[sampling_name][\"f1_score\"][0] for sampling_name in results.keys()]\n",
    "})\n",
    "\n",
    "# Print the results DataFrame\n",
    "results_df1"
   ]
  },
  {
   "cell_type": "code",
   "execution_count": null,
   "metadata": {
    "colab": {
     "base_uri": "https://localhost:8080/",
     "height": 175
    },
    "executionInfo": {
     "elapsed": 333,
     "status": "ok",
     "timestamp": 1735116522301,
     "user": {
      "displayName": "Tâm Lương",
      "userId": "09418611173666618637"
     },
     "user_tz": -420
    },
    "id": "rDYKaBqwffzI",
    "outputId": "066df9ee-5ba4-41b5-80a6-ba13d8d8cb23"
   },
   "outputs": [],
   "source": [
    "results_1 = results_df1\n",
    "results_1"
   ]
  },
  {
   "cell_type": "code",
   "execution_count": null,
   "metadata": {
    "colab": {
     "base_uri": "https://localhost:8080/",
     "height": 17
    },
    "executionInfo": {
     "elapsed": 305,
     "status": "ok",
     "timestamp": 1735117284734,
     "user": {
      "displayName": "Tâm Lương",
      "userId": "09418611173666618637"
     },
     "user_tz": -420
    },
    "id": "75LRJmK6pDon",
    "outputId": "d8ddc182-45ee-4e1b-fc4d-e42443775d5a"
   },
   "outputs": [],
   "source": [
    "results_1.to_csv('results_1.csv', index=False)\n",
    "from google.colab import files\n",
    "files.download('results_1.csv')"
   ]
  },
  {
   "cell_type": "code",
   "execution_count": null,
   "metadata": {
    "colab": {
     "base_uri": "https://localhost:8080/",
     "height": 528
    },
    "executionInfo": {
     "elapsed": 876,
     "status": "ok",
     "timestamp": 1735116545370,
     "user": {
      "displayName": "Tâm Lương",
      "userId": "09418611173666618637"
     },
     "user_tz": -420
    },
    "id": "bKyEs_-AhUvn",
    "outputId": "c376d6f3-c39f-43fb-cdec-64be41249716"
   },
   "outputs": [],
   "source": [
    "plt.figure(figsize=(10, 6))\n",
    "\n",
    "plot_data = results_1.set_index('Sampling Method').T\n",
    "\n",
    "x_values = plot_data.index\n",
    "\n",
    "for method in plot_data.columns:\n",
    "    plt.plot(x_values, plot_data[method], marker='o', label=method)\n",
    "\n",
    "plt.title('Comparison of Imbalance Handling Methods')\n",
    "plt.xlabel('Metric')\n",
    "plt.ylabel('Metric Value')\n",
    "plt.xticks(rotation=90, ha='right')\n",
    "plt.legend()\n",
    "plt.grid(True)\n",
    "plt.tight_layout()\n",
    "plt.show()"
   ]
  },
  {
   "cell_type": "markdown",
   "metadata": {
    "id": "7cBGLsbYhnyt",
    "jp-MarkdownHeadingCollapsed": true
   },
   "source": [
    "# **Train Model-based**"
   ]
  },
  {
   "cell_type": "code",
   "execution_count": null,
   "metadata": {
    "colab": {
     "base_uri": "https://localhost:8080/",
     "height": 1000
    },
    "executionInfo": {
     "elapsed": 82658,
     "status": "ok",
     "timestamp": 1735181309574,
     "user": {
      "displayName": "Tâm Lương",
      "userId": "09418611173666618637"
     },
     "user_tz": -420
    },
    "id": "12enrpRe1pP4",
    "outputId": "042ff331-2dbd-4fd5-e8e0-10a84b5f00b2"
   },
   "outputs": [],
   "source": [
    "models = {\n",
    "    \"KNN\": KNeighborsClassifier(),\n",
    "    # \"SVM\": SVC(random_state=42),\n",
    "    \"Logistic Regression\": LogisticRegression(random_state=42),\n",
    "    \"XGBoost\": XGBClassifier(random_state=42, eval_metric='logloss'),\n",
    "    \"Random Forest\": RandomForestClassifier(random_state=42),\n",
    "}\n",
    "\n",
    "results = []\n",
    "for model_name, model in models.items():\n",
    "    accuracy_list = []\n",
    "    precision_list = []\n",
    "    recall_list = []\n",
    "    f1_score_list = []\n",
    "    confusion_matrix_sum = np.zeros((2, 2))  # Sum of confusion matrices\n",
    "    smoteenn = SMOTEENN(random_state=42)\n",
    "    X_resampled, y_resampled = smoteenn.fit_resample(Xraw, yraw)\n",
    "\n",
    "    for train_index, test_index in kfold.split(X_resampled, y_resampled):\n",
    "        X_train, X_test = X_resampled.iloc[train_index, :], X_resampled.iloc[test_index, :]\n",
    "        y_train, y_test = y_resampled.iloc[train_index], y_resampled.iloc[test_index]\n",
    "\n",
    "        # Train the model\n",
    "        model.fit(X_train, y_train)\n",
    "        y_pred = model.predict(X_test)\n",
    "\n",
    "        # Calculate metrics\n",
    "        accuracy_list.append(accuracy_score(y_test, y_pred))\n",
    "        precision_list.append(precision_score(y_test, y_pred, zero_division=0))\n",
    "        recall_list.append(recall_score(y_test, y_pred, zero_division=0))\n",
    "        f1_score_list.append(f1_score(y_test, y_pred, zero_division=0))\n",
    "        confusion_matrix_sum += confusion_matrix(y_test, y_pred)  # Sum of confusion matrices\n",
    "\n",
    "    # Average metrics over folds\n",
    "    accuracy_avg = np.mean(accuracy_list)\n",
    "    precision_avg = np.mean(precision_list)\n",
    "    recall_avg = np.mean(recall_list)\n",
    "    f1_score_avg = np.mean(f1_score_list)\n",
    "\n",
    "    # Average confusion matrix\n",
    "    confusion_matrix_avg = confusion_matrix_sum / 10\n",
    "\n",
    "    # Add results to list\n",
    "    results.append([model_name, accuracy_avg, precision_avg, recall_avg, f1_score_avg, confusion_matrix_avg])\n",
    "\n",
    "# Create DataFrame with results\n",
    "results_df2 = pd.DataFrame(results, columns=['Model', 'Accuracy', 'Precision', 'Recall', 'F1-score', 'Confusion Matrix'])\n",
    "\n",
    "# Print results\n",
    "results_df2\n",
    "\n",
    "# Plot average confusion matrix for each model\n",
    "for index, row in results_df2.iterrows():\n",
    "    plt.figure(figsize=(8, 6))\n",
    "    sns.heatmap(row['Confusion Matrix'], annot=True, fmt=\".2f\", cmap=\"Blues\", cbar=True)\n",
    "    plt.title(f\"Average Confusion Matrix ({row['Model']})\")\n",
    "    plt.xlabel(\"Predicted Label\")\n",
    "    plt.ylabel(\"True Label\")\n",
    "    plt.show()"
   ]
  },
  {
   "cell_type": "code",
   "execution_count": null,
   "metadata": {
    "colab": {
     "base_uri": "https://localhost:8080/",
     "height": 206
    },
    "executionInfo": {
     "elapsed": 405,
     "status": "ok",
     "timestamp": 1735181722941,
     "user": {
      "displayName": "Tâm Lương",
      "userId": "09418611173666618637"
     },
     "user_tz": -420
    },
    "id": "21G83bBbuV-p",
    "outputId": "4cc229e2-0f8f-4b0a-8163-2a87ceb2ead6"
   },
   "outputs": [],
   "source": [
    "results_2 = results_df2.drop(columns='Confusion Matrix')\n",
    "results_2"
   ]
  },
  {
   "cell_type": "code",
   "execution_count": 45,
   "metadata": {},
   "outputs": [],
   "source": [
    "# results_2.to_csv('results_2.csv')"
   ]
  },
  {
   "cell_type": "code",
   "execution_count": null,
   "metadata": {
    "colab": {
     "base_uri": "https://localhost:8080/",
     "height": 607
    },
    "executionInfo": {
     "elapsed": 1365,
     "status": "ok",
     "timestamp": 1735181895462,
     "user": {
      "displayName": "Tâm Lương",
      "userId": "09418611173666618637"
     },
     "user_tz": -420
    },
    "id": "DfsUakEduUjK",
    "outputId": "034b2424-b7ca-4840-8ec9-d60de44eefa7"
   },
   "outputs": [],
   "source": [
    "plt.figure(figsize=(10, 6))\n",
    "\n",
    "plot_data = results_2.set_index('Model').T\n",
    "\n",
    "x_values = plot_data.index\n",
    "\n",
    "for model in plot_data.columns:\n",
    "    plt.plot(x_values, plot_data[model], marker='o', label=model)\n",
    "\n",
    "plt.title('Model Performance Comparison')\n",
    "plt.xlabel('Metric')\n",
    "plt.ylabel('Metric Value')\n",
    "plt.xticks(rotation=90, ha='right')\n",
    "plt.legend()\n",
    "plt.grid(True)\n",
    "plt.tight_layout()\n",
    "plt.show()"
   ]
  },
  {
   "cell_type": "markdown",
   "metadata": {
    "id": "oiJ81A0eleFW",
    "jp-MarkdownHeadingCollapsed": true
   },
   "source": [
    "# **Optimization**"
   ]
  },
  {
   "cell_type": "code",
   "execution_count": null,
   "metadata": {
    "id": "riaCa-JoFuJS"
   },
   "outputs": [],
   "source": [
    "from sklearn.metrics import make_scorer\n",
    "import time"
   ]
  },
  {
   "cell_type": "markdown",
   "metadata": {
    "id": "9ihIPk405zYg",
    "jp-MarkdownHeadingCollapsed": true
   },
   "source": [
    "## XGBOOST"
   ]
  },
  {
   "cell_type": "code",
   "execution_count": null,
   "metadata": {
    "colab": {
     "base_uri": "https://localhost:8080/"
    },
    "collapsed": true,
    "executionInfo": {
     "elapsed": 727344,
     "status": "ok",
     "timestamp": 1735118677651,
     "user": {
      "displayName": "Tâm Lương",
      "userId": "09418611173666618637"
     },
     "user_tz": -420
    },
    "id": "HLxYH_tyaqV8",
    "jupyter": {
     "outputs_hidden": true
    },
    "outputId": "e1bc2d01-e852-4314-a32c-22cdf36e283c"
   },
   "outputs": [],
   "source": [
    "# prompt: tối ưu hóa XGBoost (SmoteENN bằng Xraw, Yraw, kfold = 10) bằng Random Search, Grid Search, Bayesian Optimization xuất df để so sánh 4 phương pháp này\n",
    "\n",
    "from sklearn.model_selection import RandomizedSearchCV, GridSearchCV\n",
    "from sklearn.metrics import make_scorer, f1_score\n",
    "from xgboost import XGBClassifier\n",
    "import time\n",
    "from skopt import BayesSearchCV\n",
    "\n",
    "param_grid_random = {\n",
    "    'n_estimators': [int(x) for x in np.linspace(start=50, stop=200, num=10)],\n",
    "    'learning_rate': [0.01, 0.1, 0.2, 0.3],\n",
    "    'max_depth': [int(x) for x in np.linspace(start=3, stop=10, num=4)],\n",
    "    'subsample': [0.6, 0.7, 0.8, 0.9],\n",
    "    'colsample_bytree': [0.6, 0.7, 0.8, 0.9],\n",
    "    'gamma': [0, 0.1, 0.2],\n",
    "    'min_child_weight': [1, 3, 5],\n",
    "    'reg_alpha': [0, 0.1, 0.5],\n",
    "    'reg_lambda': [0, 0.1, 0.5]\n",
    "}\n",
    "\n",
    "\n",
    "param_grid_grid = {\n",
    "    'n_estimators': [100, 150],\n",
    "    'learning_rate': [0.01, 0.1],\n",
    "    'max_depth': [3, 5],\n",
    "    'subsample': [0.8, 0.9],\n",
    "    'colsample_bytree': [0.8, 0.9],\n",
    "}\n",
    "\n",
    "param_space_bayes = {\n",
    "    'n_estimators': (50, 200),\n",
    "    'learning_rate': (0.01, 0.3),\n",
    "    'max_depth': (3, 10),\n",
    "    'subsample': (0.6, 0.9),\n",
    "    'colsample_bytree': (0.6, 0.9),\n",
    "    'gamma': (0, 0.5),\n",
    "    'min_child_weight': (1, 10),\n",
    "    'reg_alpha': (0, 1),\n",
    "    'reg_lambda': (0, 1)\n",
    "}\n",
    "\n",
    "\n",
    "optimization_methods = {\n",
    "    \"Random Search\": RandomizedSearchCV(\n",
    "        estimator=XGBClassifier(random_state=42, eval_metric='logloss'),\n",
    "        param_distributions=param_grid_random,\n",
    "        n_iter=50, cv=kfold, scoring=make_scorer(f1_score), random_state=42, n_jobs=-1, verbose=1\n",
    "    ),\n",
    "\n",
    "    \"Grid Search\": GridSearchCV(\n",
    "        estimator=XGBClassifier(random_state=42, eval_metric='logloss'),\n",
    "        param_grid=param_grid_grid, cv=kfold, scoring=make_scorer(f1_score), n_jobs=-1, verbose=1\n",
    "    ),\n",
    "\n",
    "    \"Bayesian Optimization\": BayesSearchCV(\n",
    "        estimator=XGBClassifier(random_state=42, eval_metric='logloss'),\n",
    "        search_spaces=param_space_bayes,\n",
    "        n_iter=50, cv=kfold, scoring=make_scorer(f1_score), n_jobs=-1, verbose=1\n",
    "    )\n",
    "}\n",
    "\n",
    "results = []\n",
    "smote_enn = SMOTEENN(random_state=42)\n",
    "X_resampled, y_resampled = smote_enn.fit_resample(Xraw, yraw)\n",
    "\n",
    "for method_name, method in optimization_methods.items():\n",
    "    start_time = time.time()\n",
    "    method.fit(X_resampled, y_resampled)\n",
    "    end_time = time.time()\n",
    "    elapsed_time = end_time - start_time\n",
    "    results.append([method_name, method.best_score_, method.best_params_, elapsed_time])\n",
    "    print(f\"Method: {method_name}\")\n",
    "    print(f\"Best Score: {method.best_score_}\")\n",
    "    print(f\"Best Params: {method.best_params_}\")\n",
    "    print(f\"Elapsed Time: {elapsed_time} seconds\")\n",
    "\n",
    "results_df3 = pd.DataFrame(results, columns=['Method', 'Best Score', 'Best Params', 'Time'])"
   ]
  },
  {
   "cell_type": "code",
   "execution_count": null,
   "metadata": {
    "id": "gbk1Lr08ay2-"
   },
   "outputs": [],
   "source": [
    "results_3 = results_df3"
   ]
  },
  {
   "cell_type": "code",
   "execution_count": null,
   "metadata": {
    "colab": {
     "base_uri": "https://localhost:8080/",
     "height": 17
    },
    "executionInfo": {
     "elapsed": 295,
     "status": "ok",
     "timestamp": 1735118697632,
     "user": {
      "displayName": "Tâm Lương",
      "userId": "09418611173666618637"
     },
     "user_tz": -420
    },
    "id": "k59RBBGHe6WD",
    "outputId": "e037efad-66ec-41d1-c01c-29974486e480"
   },
   "outputs": [],
   "source": [
    "# results_3.to_csv('results_3.csv', index=False)\n",
    "# from google.colab import files\n",
    "# files.download('results_3.csv')"
   ]
  },
  {
   "cell_type": "code",
   "execution_count": null,
   "metadata": {
    "colab": {
     "base_uri": "https://localhost:8080/",
     "height": 1000
    },
    "executionInfo": {
     "elapsed": 31623,
     "status": "ok",
     "timestamp": 1735119307687,
     "user": {
      "displayName": "Tâm Lương",
      "userId": "09418611173666618637"
     },
     "user_tz": -420
    },
    "id": "t-tdjZXogOl7",
    "outputId": "e9696315-1eb0-4e8b-b55e-f6601886e9e3"
   },
   "outputs": [],
   "source": [
    "param_list = [\n",
    "    {'subsample': 0.9, 'reg_lambda': 0, 'reg_alpha': 0.1, 'n_estimators': 150, 'min_child_weight': 1, 'max_depth': 5, 'learning_rate': 0.3, 'gamma': 0.1, 'colsample_bytree': 0.6},\n",
    "    {'colsample_bytree': 0.9, 'learning_rate': 0.1, 'max_depth': 5, 'n_estimators': 150, 'subsample': 0.8},\n",
    "    {'colsample_bytree': 0.8648333247991004, 'gamma': 0.032838033791979145, 'learning_rate': 0.29805763097322235, 'max_depth': 6, 'min_child_weight': 2, 'n_estimators': 195, 'reg_alpha': 0, 'reg_lambda': 1, 'subsample': 0.808130004667452}\n",
    "]\n",
    "\n",
    "results = []\n",
    "\n",
    "for i, params in enumerate(param_list):\n",
    "    model = XGBClassifier(random_state=42, eval_metric='logloss', **params)\n",
    "    accuracy_list = []\n",
    "    precision_list = []\n",
    "    recall_list = []\n",
    "    f1_score_list = []\n",
    "    conf_matrices = []\n",
    "\n",
    "    smoteENN = SMOTEENN(random_state=42)\n",
    "    X_resampled, y_resampled = smoteENN.fit_resample(Xraw, yraw)\n",
    "\n",
    "    for train_index, test_index in kfold.split(X_resampled, y_resampled):\n",
    "        X_train, X_test = X_resampled.iloc[train_index, :], X_resampled.iloc[test_index, :]\n",
    "        y_train, y_test = y_resampled.iloc[train_index], y_resampled.iloc[test_index]\n",
    "\n",
    "        # Train the model\n",
    "        model.fit(X_train, y_train)\n",
    "        y_pred = model.predict(X_test)\n",
    "\n",
    "        # Collect metrics\n",
    "        accuracy_list.append(accuracy_score(y_test, y_pred))\n",
    "        precision_list.append(precision_score(y_test, y_pred))\n",
    "        recall_list.append(recall_score(y_test, y_pred))\n",
    "        f1_score_list.append(f1_score(y_test, y_pred))\n",
    "        conf_matrices.append(confusion_matrix(y_test, y_pred))\n",
    "\n",
    "    # Average metrics\n",
    "    avg_accuracy = np.mean(accuracy_list)\n",
    "    avg_precision = np.mean(precision_list)\n",
    "    avg_recall = np.mean(recall_list)\n",
    "    avg_f1 = np.mean(f1_score_list)\n",
    "    avg_conf_matrix = np.mean(conf_matrices, axis=0)\n",
    "\n",
    "    results.append([i+1, avg_accuracy, avg_precision, avg_recall, avg_f1, avg_conf_matrix])\n",
    "\n",
    "    # Plot confusion matrix\n",
    "    plt.figure(figsize=(8, 6))\n",
    "    sns.heatmap(avg_conf_matrix, annot=True, fmt=\".2f\", cmap=\"Blues\", cbar=True)\n",
    "    plt.title(f\"Average Confusion Matrix (Params Set {i+1})\")\n",
    "    plt.xlabel(\"Predicted label\")\n",
    "    plt.ylabel(\"True label\")\n",
    "    plt.show()\n",
    "\n",
    "# Create a DataFrame for results\n",
    "results_df = pd.DataFrame(results, columns=['Param Set', 'Accuracy', 'Precision', 'Recall', 'F1-score', 'Confusion Matrix'])\n",
    "results_df\n"
   ]
  },
  {
   "cell_type": "code",
   "execution_count": null,
   "metadata": {
    "colab": {
     "base_uri": "https://localhost:8080/",
     "height": 143
    },
    "executionInfo": {
     "elapsed": 340,
     "status": "ok",
     "timestamp": 1735119441580,
     "user": {
      "displayName": "Tâm Lương",
      "userId": "09418611173666618637"
     },
     "user_tz": -420
    },
    "id": "LsqD7Fhai361",
    "outputId": "13e8e988-b3b7-493c-9c74-825286bc4852"
   },
   "outputs": [],
   "source": [
    "results_4 = results_df.drop(columns=['Confusion Matrix'])\n",
    "results_4"
   ]
  },
  {
   "cell_type": "code",
   "execution_count": null,
   "metadata": {
    "colab": {
     "base_uri": "https://localhost:8080/",
     "height": 17
    },
    "executionInfo": {
     "elapsed": 343,
     "status": "ok",
     "timestamp": 1735119456077,
     "user": {
      "displayName": "Tâm Lương",
      "userId": "09418611173666618637"
     },
     "user_tz": -420
    },
    "id": "RKOEJn0hjV32",
    "outputId": "9a2bb420-16ec-4f1e-ea36-1975f7fb5347"
   },
   "outputs": [],
   "source": [
    "# results_4.to_csv('results_4.csv', index=False)\n",
    "\n",
    "# from google.colab import files\n",
    "# files.download('results_4.csv')"
   ]
  },
  {
   "cell_type": "code",
   "execution_count": null,
   "metadata": {
    "colab": {
     "base_uri": "https://localhost:8080/",
     "height": 607
    },
    "executionInfo": {
     "elapsed": 1623,
     "status": "ok",
     "timestamp": 1735119463183,
     "user": {
      "displayName": "Tâm Lương",
      "userId": "09418611173666618637"
     },
     "user_tz": -420
    },
    "id": "oAz2Hkra-Q1G",
    "outputId": "129a1301-976a-486d-ac67-b82eced27ecc"
   },
   "outputs": [],
   "source": [
    "plt.figure(figsize=(10, 6))\n",
    "\n",
    "plot_data = results_4.set_index('Param Set').T\n",
    "\n",
    "x_values = plot_data.index\n",
    "\n",
    "for param_set in plot_data.columns:\n",
    "    plt.plot(x_values, plot_data[param_set], marker='o', label=f'Param Set {param_set}')\n",
    "\n",
    "plt.title('Comparison of Parameter Sets')\n",
    "plt.xlabel('Metric')\n",
    "plt.ylabel('Metric Value')\n",
    "plt.xticks(rotation=90, ha='right')\n",
    "plt.legend()\n",
    "plt.grid(True)\n",
    "plt.tight_layout()\n",
    "plt.show()"
   ]
  },
  {
   "cell_type": "markdown",
   "metadata": {
    "id": "261d0bO46IdP"
   },
   "source": [
    "## KNN"
   ]
  },
  {
   "cell_type": "code",
   "execution_count": null,
   "metadata": {
    "colab": {
     "base_uri": "https://localhost:8080/",
     "height": 1000
    },
    "executionInfo": {
     "elapsed": 312070,
     "status": "error",
     "timestamp": 1735182922232,
     "user": {
      "displayName": "Tâm Lương",
      "userId": "09418611173666618637"
     },
     "user_tz": -420
    },
    "id": "zo9woMlr6TT3",
    "outputId": "1589288a-5719-4569-85cc-2639dd3ed76c"
   },
   "outputs": [],
   "source": [
    "from sklearn.metrics import make_scorer\n",
    "import time\n",
    "# Define parameter grids for optimization\n",
    "param_grid_random_knn = {\n",
    "    'n_neighbors': [int(x) for x in np.linspace(start=3, stop=50, num=10)],\n",
    "    'weights': ['uniform', 'distance'],\n",
    "    'algorithm': ['auto', 'ball_tree', 'kd_tree', 'brute'],\n",
    "    'p': [1, 2]  # 1 for Manhattan distance, 2 for Euclidean distance\n",
    "}\n",
    "\n",
    "param_grid_grid_knn = {\n",
    "    'n_neighbors': [5, 10, 15],\n",
    "    'weights': ['uniform', 'distance'],\n",
    "    'p': [1, 2]\n",
    "}\n",
    "\n",
    "\n",
    "param_space_bayes_knn = {\n",
    "    'n_neighbors': (3, 50),\n",
    "    'weights': ['uniform', 'distance'],\n",
    "    'p': (1, 2)\n",
    "}\n",
    "\n",
    "\n",
    "optimization_methods_knn = {\n",
    "    \"Random Search\": RandomizedSearchCV(\n",
    "        estimator=KNeighborsClassifier(),\n",
    "        param_distributions=param_grid_random_knn,\n",
    "        n_iter=20, cv=kfold, scoring=make_scorer(f1_score), random_state=42, n_jobs=-1, verbose=1\n",
    "    ),\n",
    "\n",
    "    \"Grid Search\": GridSearchCV(\n",
    "        estimator=KNeighborsClassifier(),\n",
    "        param_grid=param_grid_grid_knn, cv=kfold, scoring=make_scorer(f1_score), n_jobs=-1, verbose=1\n",
    "    ),\n",
    "\n",
    "    \"Bayesian Optimization\": BayesSearchCV(\n",
    "        estimator=KNeighborsClassifier(),\n",
    "        search_spaces=param_space_bayes_knn,\n",
    "        n_iter=20, cv=kfold, scoring=make_scorer(f1_score), n_jobs=-1, verbose=1\n",
    "    )\n",
    "}\n",
    "\n",
    "results_knn = []\n",
    "smote_enn = SMOTEENN(random_state=42)\n",
    "X_resampled, y_resampled = smote_enn.fit_resample(Xraw, yraw)\n",
    "\n",
    "\n",
    "for method_name, method in optimization_methods_knn.items():\n",
    "    start_time = time.time()\n",
    "    method.fit(X_resampled, y_resampled)\n",
    "    end_time = time.time()\n",
    "    elapsed_time = end_time - start_time\n",
    "    results_knn.append([method_name, method.best_score_, method.best_params_, elapsed_time])\n",
    "    print(f\"Method: {method_name}\")\n",
    "    print(f\"Best Score: {method.best_score_}\")\n",
    "    print(f\"Best Params: {method.best_params_}\")\n",
    "    print(f\"Elapsed Time: {elapsed_time} seconds\")\n",
    "\n",
    "results_df_knn = pd.DataFrame(results_knn, columns=['Method', 'Best Score', 'Best Params', 'Time'])"
   ]
  },
  {
   "cell_type": "code",
   "execution_count": null,
   "metadata": {
    "colab": {
     "base_uri": "https://localhost:8080/",
     "height": 143
    },
    "executionInfo": {
     "elapsed": 326,
     "status": "ok",
     "timestamp": 1735183309962,
     "user": {
      "displayName": "Tâm Lương",
      "userId": "09418611173666618637"
     },
     "user_tz": -420
    },
    "id": "xc3i2EPh62WR",
    "outputId": "2b42fd02-9a0f-45d1-a01b-04af6a5a7028"
   },
   "outputs": [],
   "source": [
    "results_knn = results_df_knn\n",
    "results_knn"
   ]
  },
  {
   "cell_type": "code",
   "execution_count": null,
   "metadata": {
    "colab": {
     "base_uri": "https://localhost:8080/",
     "height": 17
    },
    "executionInfo": {
     "elapsed": 293,
     "status": "ok",
     "timestamp": 1735183259807,
     "user": {
      "displayName": "Tâm Lương",
      "userId": "09418611173666618637"
     },
     "user_tz": -420
    },
    "id": "Ul24rExH61AN",
    "outputId": "83b261e4-0525-4dba-c6db-1368175772d4"
   },
   "outputs": [],
   "source": [
    "# results_knn.to_csv('results_knn.csv', index=False)\n",
    "# from google.colab import files\n",
    "# files.download('results_knn.csv')"
   ]
  },
  {
   "cell_type": "code",
   "execution_count": null,
   "metadata": {
    "colab": {
     "base_uri": "https://localhost:8080/",
     "height": 1000
    },
    "executionInfo": {
     "elapsed": 42133,
     "status": "ok",
     "timestamp": 1735183944477,
     "user": {
      "displayName": "Tâm Lương",
      "userId": "09418611173666618637"
     },
     "user_tz": -420
    },
    "id": "SdOawEhe-94c",
    "outputId": "5a628a1a-a735-401c-fabd-89e531af61b6"
   },
   "outputs": [],
   "source": [
    "def train_knn_models(Xraw, yraw, param_list):\n",
    "    \"\"\"Trains KNN models with specified parameters and evaluates performance using stratified k-fold cross-validation.\n",
    "    Plots the average confusion matrix for each parameter set.\n",
    "\n",
    "    Args:\n",
    "        Xraw: Features.\n",
    "        yraw: Labels.\n",
    "        param_list: A list of dictionaries where each dictionary contains parameters for a KNN model.\n",
    "\n",
    "    Returns:\n",
    "        A pandas DataFrame containing evaluation metrics for each model.\n",
    "    \"\"\"\n",
    "\n",
    "    kfold = StratifiedKFold(n_splits=10, shuffle=True, random_state=42)\n",
    "    results = []\n",
    "\n",
    "    for i, params in enumerate(param_list):\n",
    "        model = KNeighborsClassifier(**params)\n",
    "        accuracy_list = []\n",
    "        precision_list = []\n",
    "        recall_list = []\n",
    "        f1_score_list = []\n",
    "        confusion_matrices = []\n",
    "\n",
    "        smote_enn = SMOTEENN(random_state=42)\n",
    "        X_resampled, y_resampled = smote_enn.fit_resample(Xraw, yraw)\n",
    "\n",
    "        for train_index, test_index in kfold.split(X_resampled, y_resampled):\n",
    "            X_train, X_test = X_resampled.iloc[train_index], X_resampled.iloc[test_index]\n",
    "            y_train, y_test = y_resampled.iloc[train_index], y_resampled.iloc[test_index]\n",
    "\n",
    "            model.fit(X_train, y_train)\n",
    "            y_pred = model.predict(X_test)\n",
    "\n",
    "            accuracy_list.append(accuracy_score(y_test, y_pred))\n",
    "            precision_list.append(precision_score(y_test, y_pred, zero_division=0))\n",
    "            recall_list.append(recall_score(y_test, y_pred, zero_division=0))\n",
    "            f1_score_list.append(f1_score(y_test, y_pred, zero_division=0))\n",
    "            confusion_matrices.append(confusion_matrix(y_test, y_pred))\n",
    "\n",
    "        avg_accuracy = np.mean(accuracy_list)\n",
    "        avg_precision = np.mean(precision_list)\n",
    "        avg_recall = np.mean(recall_list)\n",
    "        avg_f1 = np.mean(f1_score_list)\n",
    "        avg_confusion_matrix = np.mean(confusion_matrices, axis=0)\n",
    "\n",
    "        results.append([i + 1, avg_accuracy, avg_precision, avg_recall, avg_f1, avg_confusion_matrix])\n",
    "\n",
    "        # Plot average confusion matrix\n",
    "        plt.figure(figsize=(6, 5))\n",
    "        sns.heatmap(avg_confusion_matrix, annot=True, fmt=\".2f\", cmap=\"Blues\")\n",
    "        plt.title(f\"Average Confusion Matrix for Param Set {i + 1}\")\n",
    "        plt.xlabel(\"Predicted\")\n",
    "        plt.ylabel(\"Actual\")\n",
    "        plt.show()\n",
    "\n",
    "    results_df = pd.DataFrame(results, columns=['Param Set', 'Accuracy', 'Precision', 'Recall', 'F1-score', 'Confusion Matrix'])\n",
    "    return results_df\n",
    "\n",
    "# Example usage (replace with your actual data and parameter lists)\n",
    "# Assuming Xraw and yraw are defined\n",
    "param_list = [\n",
    "    {'weights': 'uniform', 'p': 1, 'n_neighbors': 8, 'algorithm': 'kd_tree'},\n",
    "    {'n_neighbors': 5, 'p': 1, 'weights': 'distance'},\n",
    "    {'n_neighbors': 3, 'p': 1, 'weights': 'distance'}\n",
    "]\n",
    "\n",
    "results_df = train_knn_models(Xraw, yraw, param_list)"
   ]
  },
  {
   "cell_type": "code",
   "execution_count": null,
   "metadata": {
    "colab": {
     "base_uri": "https://localhost:8080/",
     "height": 143
    },
    "executionInfo": {
     "elapsed": 317,
     "status": "ok",
     "timestamp": 1735183573588,
     "user": {
      "displayName": "Tâm Lương",
      "userId": "09418611173666618637"
     },
     "user_tz": -420
    },
    "id": "OJt7771j_0Sf",
    "outputId": "8fcca8a4-cdea-430c-9e2b-8d34e29d3fa2"
   },
   "outputs": [],
   "source": [
    "results4_knn = results_df.drop(columns=['Confusion Matrix'])\n",
    "results4_knn"
   ]
  },
  {
   "cell_type": "code",
   "execution_count": null,
   "metadata": {
    "colab": {
     "base_uri": "https://localhost:8080/",
     "height": 17
    },
    "executionInfo": {
     "elapsed": 326,
     "status": "ok",
     "timestamp": 1735183577397,
     "user": {
      "displayName": "Tâm Lương",
      "userId": "09418611173666618637"
     },
     "user_tz": -420
    },
    "id": "o262EF3J_8IZ",
    "outputId": "b2414a8f-1950-4596-e1d4-1bcc2ab68747"
   },
   "outputs": [],
   "source": [
    "# results4_knn.to_csv('results4_knn.csv', index=False)\n",
    "# from google.colab import files\n",
    "# files.download('results4_knn.csv')"
   ]
  },
  {
   "cell_type": "code",
   "execution_count": null,
   "metadata": {
    "colab": {
     "base_uri": "https://localhost:8080/",
     "height": 593
    },
    "executionInfo": {
     "elapsed": 1594,
     "status": "ok",
     "timestamp": 1735183601650,
     "user": {
      "displayName": "Tâm Lương",
      "userId": "09418611173666618637"
     },
     "user_tz": -420
    },
    "id": "2kHi0rUkADkC",
    "outputId": "0cbad176-ae45-48b3-e3f0-1446839984ee"
   },
   "outputs": [],
   "source": [
    "plt.figure(figsize=(10, 6))\n",
    "\n",
    "plot_data = results4_knn.set_index('Param Set').T\n",
    "\n",
    "x_values = plot_data.index\n",
    "\n",
    "for param_set in plot_data.columns:\n",
    "    plt.plot(x_values, plot_data[param_set], marker='o', label=f'Param Set {param_set}')\n",
    "\n",
    "plt.title('Comparison of Parameter Sets for KNN')\n",
    "plt.xlabel('Metric')\n",
    "plt.ylabel('Metric Value')\n",
    "plt.xticks(rotation=45, ha='right')  # Rotate x-axis labels for better readability\n",
    "plt.legend()\n",
    "plt.grid(True)\n",
    "plt.tight_layout()\n",
    "plt.show()"
   ]
  },
  {
   "cell_type": "markdown",
   "metadata": {
    "id": "Uid0fMMQBpur"
   },
   "source": [
    "## Logistic Regression"
   ]
  },
  {
   "cell_type": "code",
   "execution_count": null,
   "metadata": {
    "colab": {
     "base_uri": "https://localhost:8080/",
     "height": 888
    },
    "executionInfo": {
     "elapsed": 1179638,
     "status": "ok",
     "timestamp": 1735186249093,
     "user": {
      "displayName": "Tâm Lương",
      "userId": "09418611173666618637"
     },
     "user_tz": -420
    },
    "id": "9kPgbqzoFm4R",
    "outputId": "5e349682-99b7-4bbb-cd9b-f13063908d74"
   },
   "outputs": [],
   "source": [
    "param_grid_random = {\n",
    "    'C': [0.001, 0.01, 0.1, 1, 10, 100],\n",
    "    'penalty': ['l1', 'l2'],\n",
    "    'solver': ['liblinear', 'saga'] # 'l1' penalty can only be used with these solvers.\n",
    "}\n",
    "\n",
    "param_grid_grid = {\n",
    "    'C': [0.1, 1, 10],\n",
    "    'penalty': ['l2'],\n",
    "    'solver': ['liblinear', 'lbfgs']\n",
    "}\n",
    "\n",
    "param_space_bayes = {\n",
    "    'C': (0.001, 100),\n",
    "    'penalty': ['l1', 'l2'],\n",
    "    'solver': ['liblinear', 'saga']\n",
    "}\n",
    "\n",
    "\n",
    "optimization_methods = {\n",
    "    \"Random Search\": RandomizedSearchCV(\n",
    "        estimator=LogisticRegression(random_state=42, max_iter=1000), # Increased max_iter\n",
    "        param_distributions=param_grid_random,\n",
    "        n_iter=20, cv=kfold, scoring=make_scorer(f1_score), random_state=42, n_jobs=-1, verbose=1\n",
    "    ),\n",
    "\n",
    "    \"Grid Search\": GridSearchCV(\n",
    "        estimator=LogisticRegression(random_state=42, max_iter=1000), # Increased max_iter\n",
    "        param_grid=param_grid_grid, cv=kfold, scoring=make_scorer(f1_score), n_jobs=-1, verbose=1\n",
    "    ),\n",
    "\n",
    "    \"Bayesian Optimization\": BayesSearchCV(\n",
    "        estimator=LogisticRegression(random_state=42, max_iter=1000), # Increased max_iter\n",
    "        search_spaces=param_space_bayes,\n",
    "        n_iter=20, cv=kfold, scoring=make_scorer(f1_score), n_jobs=-1, verbose=1\n",
    "    )\n",
    "}\n",
    "\n",
    "results = []\n",
    "smote_enn = SMOTEENN(random_state=42)\n",
    "X_resampled, y_resampled = smote_enn.fit_resample(Xraw, yraw)\n",
    "\n",
    "for method_name, method in optimization_methods.items():\n",
    "    start_time = time.time()\n",
    "    method.fit(X_resampled, y_resampled)\n",
    "    end_time = time.time()\n",
    "    elapsed_time = end_time - start_time\n",
    "    results.append([method_name, method.best_score_, method.best_params_, elapsed_time])\n",
    "    print(f\"Method: {method_name}\")\n",
    "    print(f\"Best Score: {method.best_score_}\")\n",
    "    print(f\"Best Params: {method.best_params_}\")\n",
    "    print(f\"Elapsed Time: {elapsed_time} seconds\")\n",
    "\n",
    "results_df = pd.DataFrame(results, columns=['Method', 'Best Score', 'Best Params', 'Time'])\n",
    "\n",
    "#No optimization\n",
    "model = LogisticRegression(random_state=42, max_iter=1000)\n",
    "start_time = time.time()\n",
    "model.fit(X_resampled, y_resampled)\n",
    "end_time = time.time()\n",
    "elapsed_time = end_time - start_time\n",
    "no_opt_score = cross_val_score(model, X_resampled, y_resampled, cv = kfold, scoring='f1').mean()\n",
    "\n",
    "results.append(['No Optimization', no_opt_score, {}, elapsed_time])\n",
    "\n",
    "results_df = pd.DataFrame(results, columns=['Method', 'Best Score', 'Best Params', 'Time'])\n",
    "results_df"
   ]
  },
  {
   "cell_type": "code",
   "execution_count": null,
   "metadata": {
    "id": "ErxQAzoPCGek"
   },
   "outputs": [],
   "source": [
    "results3_LR = results_df"
   ]
  },
  {
   "cell_type": "code",
   "execution_count": null,
   "metadata": {
    "colab": {
     "base_uri": "https://localhost:8080/",
     "height": 17
    },
    "executionInfo": {
     "elapsed": 343,
     "status": "ok",
     "timestamp": 1735186307163,
     "user": {
      "displayName": "Tâm Lương",
      "userId": "09418611173666618637"
     },
     "user_tz": -420
    },
    "id": "NP4frLyYB8MB",
    "outputId": "41f66e91-4421-42fa-d09a-0e50980a1941"
   },
   "outputs": [],
   "source": [
    "# results3_LR.to_csv('results3_LR.csv', index=False)\n",
    "# from google.colab import files\n",
    "# files.download('results3_LR.csv')"
   ]
  },
  {
   "cell_type": "code",
   "execution_count": null,
   "metadata": {
    "colab": {
     "base_uri": "https://localhost:8080/",
     "height": 1000
    },
    "executionInfo": {
     "elapsed": 187261,
     "status": "ok",
     "timestamp": 1735187141051,
     "user": {
      "displayName": "Tâm Lương",
      "userId": "09418611173666618637"
     },
     "user_tz": -420
    },
    "id": "gt3MSdzMKhN2",
    "outputId": "feee7b24-03b7-45eb-9a9e-58c66498cd1e"
   },
   "outputs": [],
   "source": [
    "def train_lr_models(Xraw, yraw, param_list):\n",
    "    \"\"\"Trains Logistic Regression models with specified parameters and evaluates using stratified K-fold CV.\n",
    "\n",
    "    Args:\n",
    "        Xraw: Features.\n",
    "        yraw: Labels.\n",
    "        param_list: List of dictionaries with parameters for Logistic Regression models.\n",
    "\n",
    "    Returns:\n",
    "        DataFrame containing confusion matrices and performance metrics for each parameter set.\n",
    "    \"\"\"\n",
    "    kfold = StratifiedKFold(n_splits=10, shuffle=True, random_state=42)\n",
    "    results = []\n",
    "\n",
    "    for i, params in enumerate(param_list):\n",
    "        model = LogisticRegression(random_state=42, max_iter=1000, **params)\n",
    "        conf_matrices = []\n",
    "        accuracies = []\n",
    "        precisions = []\n",
    "        recalls = []\n",
    "        f1_scores = []\n",
    "\n",
    "        smote_enn = SMOTEENN(random_state=42)\n",
    "        X_resampled, y_resampled = smote_enn.fit_resample(Xraw, yraw)\n",
    "\n",
    "        for train_index, test_index in kfold.split(X_resampled, y_resampled):\n",
    "            X_train, X_test = X_resampled.iloc[train_index], X_resampled.iloc[test_index]\n",
    "            y_train, y_test = y_resampled.iloc[train_index], y_resampled.iloc[test_index]\n",
    "\n",
    "            model.fit(X_train, y_train)\n",
    "            y_pred = model.predict(X_test)\n",
    "            conf_matrices.append(confusion_matrix(y_test, y_pred))\n",
    "\n",
    "            # Calculate metrics\n",
    "            accuracies.append(accuracy_score(y_test, y_pred))\n",
    "            precisions.append(precision_score(y_test, y_pred))\n",
    "            recalls.append(recall_score(y_test, y_pred))\n",
    "            f1_scores.append(f1_score(y_test, y_pred))\n",
    "\n",
    "        avg_conf_matrix = np.mean(conf_matrices, axis=0)\n",
    "        avg_accuracy = np.mean(accuracies)\n",
    "        avg_precision = np.mean(precisions)\n",
    "        avg_recall = np.mean(recalls)\n",
    "        avg_f1_score = np.mean(f1_scores)\n",
    "\n",
    "        results.append([i + 1, avg_conf_matrix, avg_accuracy, avg_precision, avg_recall, avg_f1_score])\n",
    "\n",
    "        # Plotting confusion matrix\n",
    "        plt.figure(figsize=(8, 6))\n",
    "        sns.heatmap(avg_conf_matrix, annot=True, fmt=\".2f\", cmap=\"Blues\", cbar=True)\n",
    "        plt.title(f\"Average Confusion Matrix (Params Set {i + 1})\")\n",
    "        plt.xlabel(\"Predicted label\")\n",
    "        plt.ylabel(\"True label\")\n",
    "        plt.show()\n",
    "\n",
    "    results_df = pd.DataFrame(results, columns=['Param Set', 'Confusion Matrix', 'Accuracy', 'Precision', 'Recall', 'F1 Score'])\n",
    "    return results_df\n",
    "\n",
    "# Example usage (replace with your actual data)\n",
    "param_list = [\n",
    "    {'solver': 'saga', 'penalty': 'l1', 'C': 100},\n",
    "    {'C': 10, 'penalty': 'l2', 'solver': 'lbfgs'},\n",
    "    {'C': 99.04073752993764, 'penalty': 'l1', 'solver': 'saga'},\n",
    "    {}\n",
    "]\n",
    "\n",
    "results_df = train_lr_models(Xraw, yraw, param_list)\n",
    "print(results_df)\n"
   ]
  },
  {
   "cell_type": "code",
   "execution_count": null,
   "metadata": {
    "colab": {
     "base_uri": "https://localhost:8080/",
     "height": 175
    },
    "executionInfo": {
     "elapsed": 324,
     "status": "ok",
     "timestamp": 1735187145815,
     "user": {
      "displayName": "Tâm Lương",
      "userId": "09418611173666618637"
     },
     "user_tz": -420
    },
    "id": "pxDcgzCKNfM9",
    "outputId": "6b5abe86-ed93-4f9b-bbca-b1fc7fbd90c1"
   },
   "outputs": [],
   "source": [
    "results4_LR = results_df.drop(columns=['Confusion Matrix'])\n",
    "results4_LR"
   ]
  },
  {
   "cell_type": "code",
   "execution_count": null,
   "metadata": {
    "colab": {
     "base_uri": "https://localhost:8080/",
     "height": 17
    },
    "executionInfo": {
     "elapsed": 314,
     "status": "ok",
     "timestamp": 1735187153384,
     "user": {
      "displayName": "Tâm Lương",
      "userId": "09418611173666618637"
     },
     "user_tz": -420
    },
    "id": "2skHsBEwNcTq",
    "outputId": "dc9f68bb-b11a-4119-f7c5-8ff88f52eeae"
   },
   "outputs": [],
   "source": [
    "# results4_LR.to_csv('results4_LR.csv', index=False)\n",
    "# from google.colab import files\n",
    "# files.download('results4_LR.csv')"
   ]
  },
  {
   "cell_type": "code",
   "execution_count": null,
   "metadata": {
    "colab": {
     "base_uri": "https://localhost:8080/",
     "height": 627
    },
    "executionInfo": {
     "elapsed": 1053,
     "status": "ok",
     "timestamp": 1735187206513,
     "user": {
      "displayName": "Tâm Lương",
      "userId": "09418611173666618637"
     },
     "user_tz": -420
    },
    "id": "W0GdkmxVNtm2",
    "outputId": "8c1ed307-76ba-4046-933b-4598f640e3be"
   },
   "outputs": [],
   "source": [
    "plt.figure(figsize=(10, 6))\n",
    "\n",
    "plot_data = results4_LR.set_index('Param Set').T\n",
    "\n",
    "x_values = plot_data.index\n",
    "\n",
    "for param_set in plot_data.columns:\n",
    "    plt.plot(x_values, plot_data[param_set], marker='o', label=f'Param Set {param_set}')\n",
    "\n",
    "plt.title('Comparison of Parameter Sets for Logistic Regression')\n",
    "plt.xlabel('Metric')\n",
    "plt.ylabel('Metric Value')\n",
    "plt.xticks(rotation=90, ha='right')  # Rotate x-axis labels for better readability\n",
    "plt.legend()\n",
    "plt.grid(True)\n",
    "plt.tight_layout()\n",
    "plt.show()"
   ]
  },
  {
   "cell_type": "markdown",
   "metadata": {
    "id": "DJqHN6IeOddZ"
   },
   "source": [
    "## Random Forest"
   ]
  },
  {
   "cell_type": "code",
   "execution_count": null,
   "metadata": {
    "colab": {
     "base_uri": "https://localhost:8080/",
     "height": 1000
    },
    "executionInfo": {
     "elapsed": 4374087,
     "status": "ok",
     "timestamp": 1735195118100,
     "user": {
      "displayName": "Tâm Lương",
      "userId": "09418611173666618637"
     },
     "user_tz": -420
    },
    "id": "uO-G374kOf-3",
    "outputId": "ce9ff1d1-c81b-4597-a4da-67d8fa310b59"
   },
   "outputs": [],
   "source": [
    "param_grid_random_rf = {\n",
    "    'n_estimators': [int(x) for x in np.linspace(start=50, stop=200, num=10)],\n",
    "    'max_features': ['sqrt', 'log2'],\n",
    "    'max_depth': [int(x) for x in np.linspace(10, 110, num=11)],\n",
    "    'min_samples_split': [2, 5, 10],\n",
    "    'min_samples_leaf': [1, 2, 4],\n",
    "    'bootstrap': [True, False]\n",
    "}\n",
    "\n",
    "param_grid_grid_rf = {\n",
    "    'n_estimators': [100, 150, 200],\n",
    "    'max_depth': [None, 10, 20, 30],\n",
    "    'min_samples_split': [2, 5, 10],\n",
    "    'min_samples_leaf': [1, 2, 4]\n",
    "}\n",
    "\n",
    "param_space_bayes_rf = {\n",
    "    'n_estimators': (50, 200),\n",
    "    'max_depth': (10, 110),\n",
    "    'min_samples_split': (2, 10),\n",
    "    'min_samples_leaf': (1, 4),\n",
    "    'max_features': ['sqrt', 'log2'],\n",
    "    'bootstrap': [True, False]\n",
    "}\n",
    "\n",
    "optimization_methods_rf = {\n",
    "    \"Random Search\": RandomizedSearchCV(\n",
    "        estimator=RandomForestClassifier(random_state=42),\n",
    "        param_distributions=param_grid_random_rf,\n",
    "        n_iter=20, cv=kfold, scoring=make_scorer(f1_score), random_state=42, n_jobs=-1, verbose=1\n",
    "    ),\n",
    "    \"Grid Search\": GridSearchCV(\n",
    "        estimator=RandomForestClassifier(random_state=42),\n",
    "        param_grid=param_grid_grid_rf, cv=kfold, scoring=make_scorer(f1_score), n_jobs=-1, verbose=1\n",
    "    ),\n",
    "    \"Bayesian Optimization\": BayesSearchCV(\n",
    "        estimator=RandomForestClassifier(random_state=42),\n",
    "        search_spaces=param_space_bayes_rf,\n",
    "        n_iter=20, cv=kfold, scoring=make_scorer(f1_score), n_jobs=-1, verbose=1\n",
    "    )\n",
    "}\n",
    "\n",
    "results = []\n",
    "smote_enn = SMOTEENN(random_state=42)\n",
    "X_resampled, y_resampled = smote_enn.fit_resample(Xraw, yraw)\n",
    "\n",
    "for method_name, method in optimization_methods_rf.items():\n",
    "    start_time = time.time()\n",
    "    method.fit(X_resampled, y_resampled)\n",
    "    end_time = time.time()\n",
    "    elapsed_time = end_time - start_time\n",
    "    results.append([method_name, method.best_score_, method.best_params_, elapsed_time])\n",
    "    print(f\"Method: {method_name}\")\n",
    "    print(f\"Best Score: {method.best_score_}\")\n",
    "    print(f\"Best Params: {method.best_params_}\")\n",
    "    print(f\"Elapsed Time: {elapsed_time} seconds\")\n",
    "\n",
    "results_df = pd.DataFrame(results, columns=['Method', 'Best Score', 'Best Params', 'Time'])\n",
    "results_df"
   ]
  },
  {
   "cell_type": "code",
   "execution_count": null,
   "metadata": {
    "id": "2tIsNaqaOx_1"
   },
   "outputs": [],
   "source": [
    "results3_RF = results_df"
   ]
  },
  {
   "cell_type": "code",
   "execution_count": null,
   "metadata": {
    "colab": {
     "base_uri": "https://localhost:8080/",
     "height": 17
    },
    "executionInfo": {
     "elapsed": 411,
     "status": "ok",
     "timestamp": 1735195149952,
     "user": {
      "displayName": "Tâm Lương",
      "userId": "09418611173666618637"
     },
     "user_tz": -420
    },
    "id": "TWpAOuK-Otir",
    "outputId": "44208bff-22f3-465c-975a-dabbff779f56"
   },
   "outputs": [],
   "source": [
    "# results3_RF.to_csv('results3_RF.csv', index=False)\n",
    "# from google.colab import files\n",
    "# files.download('results3_RF.csv')"
   ]
  },
  {
   "cell_type": "code",
   "execution_count": null,
   "metadata": {
    "colab": {
     "base_uri": "https://localhost:8080/",
     "height": 1000
    },
    "executionInfo": {
     "elapsed": 211977,
     "status": "ok",
     "timestamp": 1735195655649,
     "user": {
      "displayName": "Tâm Lương",
      "userId": "09418611173666618637"
     },
     "user_tz": -420
    },
    "id": "T7wM0W-0sSAL",
    "outputId": "4f2a267c-83f1-44b3-85be-888cde8217f8"
   },
   "outputs": [],
   "source": [
    "# prompt: train model random forest, smoteENN, kfold bằng 10 , xuất 4 chỉ số và confusion matrix với 3 trường hợp như sau:\n",
    "# 1.{'n_estimators': 200, 'min_samples_split': 2, 'min_samples_leaf': 1, 'max_features': 'sqrt', 'max_depth': 20, 'bootstrap': False}\n",
    "# 2.{'max_depth': None, 'min_samples_leaf': 1, 'min_samples_split': 2, 'n_estimators': 200}\n",
    "# 3.OrderedDict([('bootstrap', False), ('max_depth', 109), ('max_features', 'sqrt'), ('min_samples_leaf', 1), ('min_samples_split', 2), ('n_estimators', 191)])\n",
    "def train_rf_models(Xraw, yraw, param_list):\n",
    "    kfold = StratifiedKFold(n_splits=10, shuffle=True, random_state=42)\n",
    "    results = []\n",
    "\n",
    "    for i, params in enumerate(param_list):\n",
    "        model = RandomForestClassifier(random_state=42, **params)\n",
    "        accuracy_list = []\n",
    "        precision_list = []\n",
    "        recall_list = []\n",
    "        f1_score_list = []\n",
    "        confusion_matrices = []\n",
    "\n",
    "        smote_enn = SMOTEENN(random_state=42)\n",
    "        X_resampled, y_resampled = smote_enn.fit_resample(Xraw, yraw)\n",
    "\n",
    "        for train_index, test_index in kfold.split(X_resampled, y_resampled):\n",
    "            X_train, X_test = X_resampled.iloc[train_index], X_resampled.iloc[test_index]\n",
    "            y_train, y_test = y_resampled.iloc[train_index], y_resampled.iloc[test_index]\n",
    "\n",
    "            model.fit(X_train, y_train)\n",
    "            y_pred = model.predict(X_test)\n",
    "\n",
    "            accuracy_list.append(accuracy_score(y_test, y_pred))\n",
    "            precision_list.append(precision_score(y_test, y_pred, zero_division=0))\n",
    "            recall_list.append(recall_score(y_test, y_pred, zero_division=0))\n",
    "            f1_score_list.append(f1_score(y_test, y_pred, zero_division=0))\n",
    "            confusion_matrices.append(confusion_matrix(y_test, y_pred))\n",
    "\n",
    "        avg_accuracy = np.mean(accuracy_list)\n",
    "        avg_precision = np.mean(precision_list)\n",
    "        avg_recall = np.mean(recall_list)\n",
    "        avg_f1 = np.mean(f1_score_list)\n",
    "        avg_confusion_matrix = np.mean(confusion_matrices, axis=0)\n",
    "\n",
    "        results.append([i + 1, avg_accuracy, avg_precision, avg_recall, avg_f1, avg_confusion_matrix])\n",
    "\n",
    "        plt.figure(figsize=(6, 5))\n",
    "        sns.heatmap(avg_confusion_matrix, annot=True, fmt=\".2f\", cmap=\"Blues\")\n",
    "        plt.title(f\"Average Confusion Matrix for Param Set {i + 1}\")\n",
    "        plt.xlabel(\"Predicted\")\n",
    "        plt.ylabel(\"Actual\")\n",
    "        plt.show()\n",
    "\n",
    "    results_df = pd.DataFrame(results, columns=['Param Set', 'Accuracy', 'Precision', 'Recall', 'F1-score', 'Confusion Matrix'])\n",
    "    return results_df\n",
    "\n",
    "# Example usage (replace with your actual data and parameter lists)\n",
    "param_list = [\n",
    "    {'n_estimators': 200, 'min_samples_split': 2, 'min_samples_leaf': 1, 'max_features': 'sqrt', 'max_depth': 20, 'bootstrap': False},\n",
    "    {'max_depth': None, 'min_samples_leaf': 1, 'min_samples_split': 2, 'n_estimators': 200},\n",
    "    {'bootstrap': False, 'max_depth': 109, 'max_features': 'sqrt', 'min_samples_leaf': 1, 'min_samples_split': 2, 'n_estimators': 191}\n",
    "]\n",
    "\n",
    "# Assuming Xraw and yraw are your features and labels\n",
    "results_df = train_rf_models(Xraw, yraw, param_list)\n",
    "results_df"
   ]
  },
  {
   "cell_type": "code",
   "execution_count": null,
   "metadata": {
    "id": "z2jmzKc1sPa-"
   },
   "outputs": [],
   "source": [
    "results4_RF = results_df"
   ]
  },
  {
   "cell_type": "code",
   "execution_count": null,
   "metadata": {
    "colab": {
     "base_uri": "https://localhost:8080/",
     "height": 17
    },
    "executionInfo": {
     "elapsed": 5,
     "status": "ok",
     "timestamp": 1735195689728,
     "user": {
      "displayName": "Tâm Lương",
      "userId": "09418611173666618637"
     },
     "user_tz": -420
    },
    "id": "bS0qwR6OsPqU",
    "outputId": "1836c78d-2049-4fa7-a1ac-dd8f223026ea"
   },
   "outputs": [],
   "source": [
    "# results4_RF.to_csv('results4_RF.csv', index=False)\n",
    "# from google.colab import files\n",
    "# files.download('results4_RF.csv')"
   ]
  },
  {
   "cell_type": "code",
   "execution_count": null,
   "metadata": {
    "colab": {
     "base_uri": "https://localhost:8080/",
     "height": 594
    },
    "executionInfo": {
     "elapsed": 1144,
     "status": "ok",
     "timestamp": 1735195722754,
     "user": {
      "displayName": "Tâm Lương",
      "userId": "09418611173666618637"
     },
     "user_tz": -420
    },
    "id": "ChG5Sg2XuRli",
    "outputId": "fd02f71c-49df-45fe-e3a9-64fc68251ba0"
   },
   "outputs": [],
   "source": [
    "results4_RF = results_df.drop(columns=['Confusion Matrix'])\n",
    "results4_RF\n",
    "\n",
    "plt.figure(figsize=(10, 6))\n",
    "\n",
    "plot_data = results4_RF.set_index('Param Set').T\n",
    "\n",
    "x_values = plot_data.index\n",
    "\n",
    "for param_set in plot_data.columns:\n",
    "    plt.plot(x_values, plot_data[param_set], marker='o', label=f'Param Set {param_set}')\n",
    "\n",
    "plt.title('Comparison of Parameter Sets for Random Forest')\n",
    "plt.xlabel('Metric')\n",
    "plt.ylabel('Metric Value')\n",
    "plt.xticks(rotation=90, ha='right')\n",
    "plt.legend()\n",
    "plt.grid(True)\n",
    "plt.tight_layout()\n",
    "plt.show()"
   ]
  },
  {
   "cell_type": "markdown",
   "metadata": {
    "id": "baj-IlGKuoyJ"
   },
   "source": [
    "## SVM"
   ]
  },
  {
   "cell_type": "code",
   "execution_count": null,
   "metadata": {
    "colab": {
     "base_uri": "https://localhost:8080/",
     "height": 628
    },
    "executionInfo": {
     "elapsed": 1516948,
     "status": "error",
     "timestamp": 1735197418267,
     "user": {
      "displayName": "Tâm Lương",
      "userId": "09418611173666618637"
     },
     "user_tz": -420
    },
    "id": "5dxSHvvEuu2r",
    "outputId": "2dbf2110-83ee-4f80-a79a-30a0380e558f"
   },
   "outputs": [],
   "source": [
    "param_grid_random_svm = {\n",
    "    'C': stats.uniform(0.1, 10),  # Use uniform distribution for C\n",
    "    'kernel': ['linear', 'rbf', 'poly'],\n",
    "    'gamma': ['scale', 'auto'] + list(np.logspace(-3, 3, 7)),  # Include 'scale' and 'auto'\n",
    "    'degree': [2, 3, 4] # Only for poly kernel\n",
    "}\n",
    "\n",
    "param_grid_grid_svm = {\n",
    "    'C': [0.1, 1, 10],\n",
    "    'kernel': ['linear', 'rbf'],\n",
    "    'gamma': ['scale', 'auto', 0.01, 1] # Include 'scale' and 'auto'\n",
    "}\n",
    "\n",
    "param_space_bayes_svm = {\n",
    "    'C': (0.1, 10),\n",
    "    'kernel': ['linear', 'rbf', 'poly'],\n",
    "    'gamma': (1e-3, 1e3, 'log-uniform'),\n",
    "    'degree': (2, 5) # Only for poly kernel\n",
    "}\n",
    "\n",
    "optimization_methods_svm = {\n",
    "    \"Random Search\": RandomizedSearchCV(\n",
    "        estimator=SVC(random_state=42),\n",
    "        param_distributions=param_grid_random_svm,\n",
    "        n_iter=20, cv=StratifiedKFold(n_splits=10, shuffle=True, random_state=42),\n",
    "        scoring=make_scorer(f1_score), n_jobs=-1, verbose=1, random_state=42\n",
    "    ),\n",
    "    \"Grid Search\": GridSearchCV(\n",
    "        estimator=SVC(random_state=42),\n",
    "        param_grid=param_grid_grid_svm,\n",
    "        cv=StratifiedKFold(n_splits=10, shuffle=True, random_state=42),\n",
    "        scoring=make_scorer(f1_score), n_jobs=-1, verbose=1\n",
    "    ),\n",
    "    \"Bayesian Optimization\": BayesSearchCV(\n",
    "        estimator=SVC(random_state=42),\n",
    "        search_spaces=param_space_bayes_svm,\n",
    "        n_iter=20, cv=StratifiedKFold(n_splits=10, shuffle=True, random_state=42),\n",
    "        scoring=make_scorer(f1_score), n_jobs=-1, verbose=1, random_state=42\n",
    "    )\n",
    "}\n",
    "\n",
    "results = []\n",
    "kfold = StratifiedKFold(n_splits=10, shuffle=True, random_state=42)\n",
    "smote_enn = SMOTEENN(random_state=42)\n",
    "X_resampled, y_resampled = smote_enn.fit_resample(Xraw, yraw)\n",
    "\n",
    "for method_name, method in optimization_methods_svm.items():\n",
    "    start_time = time.time()\n",
    "    method.fit(X_resampled, y_resampled)\n",
    "    end_time = time.time()\n",
    "    elapsed_time = end_time - start_time\n",
    "    results.append([method_name, method.best_score_, method.best_params_, elapsed_time])\n",
    "    print(f\"Method: {method_name}\")\n",
    "    print(f\"Best Score: {method.best_score_}\")\n",
    "    print(f\"Best Params: {method.best_params_}\")\n",
    "    print(f\"Elapsed Time: {elapsed_time} seconds\")\n",
    "\n",
    "results_df = pd.DataFrame(results, columns=['Method', 'Best Score', 'Best Params', 'Time'])\n",
    "results_df\n",
    "results3_SVM = results_df\n",
    "results3_SVM.to_csv('results3_SVM.csv', index=False)\n",
    "from google.colab import files\n",
    "files.download('results3_SVM.csv')"
   ]
  },
  {
   "cell_type": "code",
   "execution_count": null,
   "metadata": {
    "id": "7nhcQXdNwmSW"
   },
   "outputs": [],
   "source": []
  },
  {
   "cell_type": "code",
   "execution_count": null,
   "metadata": {
    "id": "1ohcD3aUwmU2"
   },
   "outputs": [],
   "source": [
    "results4_SVM = results_df"
   ]
  },
  {
   "cell_type": "code",
   "execution_count": null,
   "metadata": {
    "id": "81Wm-njRwmXM"
   },
   "outputs": [],
   "source": [
    "results4_SVM.to_csv('results4_SVM.csv', index=False)\n",
    "from google.colab import files\n",
    "files.download('results4_SVM.csv')"
   ]
  },
  {
   "cell_type": "markdown",
   "metadata": {
    "id": "8FZGG9JF036r"
   },
   "source": [
    "# **STACKING MODEL**"
   ]
  },
  {
   "cell_type": "code",
   "execution_count": 68,
   "metadata": {},
   "outputs": [],
   "source": [
    "import warnings\n",
    "warnings.filterwarnings(\"ignore\")"
   ]
  },
  {
   "cell_type": "code",
   "execution_count": 69,
   "metadata": {},
   "outputs": [],
   "source": [
    "Xnp = Xraw.to_numpy()\n",
    "ynp = yraw.to_numpy()"
   ]
  },
  {
   "cell_type": "code",
   "execution_count": 70,
   "metadata": {},
   "outputs": [],
   "source": [
    "from tensorflow.keras.models import Sequential\n",
    "from tensorflow.keras.layers import Dense\n",
    "from tensorflow.keras.optimizers import Adam\n",
    "\n",
    "# Hàm tạo mô hình DNN\n",
    "def create_dnn_model(input_dim):\n",
    "    model = Sequential()\n",
    "    # Lớp ẩn đầu tiên với 64 nơ-ron và hàm kích hoạt ReLU\n",
    "    model.add(Dense(64, input_dim=input_dim, activation='relu'))\n",
    "    # Lớp ẩn thứ hai với 32 nơ-ron và hàm kích hoạt ReLU\n",
    "    model.add(Dense(32, activation='relu'))\n",
    "    # Lớp đầu ra với 1 nơ-ron (đầu ra nhị phân) và hàm kích hoạt sigmoid\n",
    "    model.add(Dense(1, activation='sigmoid'))\n",
    "    \n",
    "    # Biên dịch mô hình với optimizer Adam và hàm mất mát binary_crossentropy\n",
    "    model.compile(optimizer=Adam(), loss='binary_crossentropy', metrics=['accuracy'])\n",
    "    \n",
    "    return model\n"
   ]
  },
  {
   "cell_type": "code",
   "execution_count": null,
   "metadata": {},
   "outputs": [],
   "source": [
    "def stacking_model_with_kfold_avg_metrics(X, y, meta_model_type):\n",
    "    # Base models\n",
    "    base_estimators = [\n",
    "        ('knn', KNeighborsClassifier(n_neighbors=3, p=1, weights='distance')),\n",
    "        ('rf', RandomForestClassifier(max_depth=109, max_features='sqrt',\n",
    "                                       min_samples_leaf=1, min_samples_split=2,\n",
    "                                       n_estimators=191, random_state=42)),\n",
    "        ('lr', LogisticRegression(random_state=42,C=99.04073752993764,penalty='l1',solver='saga')),\n",
    "        ('xgb', XGBClassifier(use_label_encoder=False, eval_metric='logloss',\n",
    "                              colsample_bytree=0.8648, gamma=0.0328,\n",
    "                              learning_rate=0.298, max_depth=6, min_child_weight=2,\n",
    "                              n_estimators=195, reg_alpha=0, reg_lambda=1,\n",
    "                              subsample=0.8081, random_state=42))\n",
    "    ]\n",
    "\n",
    "    # KFold setup for base models\n",
    "    kf = StratifiedKFold(n_splits=10, shuffle=True, random_state=42)\n",
    "    base_model_predictions = []\n",
    "    smoteenn = SMOTEENN(random_state=42)\n",
    "    X_res, y_res = smoteenn.fit_resample(X, y)\n",
    "    # Collect predictions from base models using KFold\n",
    "    for name, model in base_estimators:\n",
    "        model_predictions = np.zeros_like(y_res)\n",
    "        for train_index, test_index in kf.split(X_res,y_res):\n",
    "            X_train, X_test = X_res[train_index], X_res[test_index]\n",
    "            y_train = y_res[train_index]\n",
    "            model.fit(X_train, y_train)\n",
    "            model_predictions[test_index] = model.predict(X_test)\n",
    "        base_model_predictions.append(model_predictions)\n",
    "\n",
    "    # Combine predictions as new features\n",
    "    X_meta = np.column_stack(base_model_predictions)\n",
    "\n",
    "    # KFold setup for meta model\n",
    "    metrics = {'Accuracy': [], 'Precision': [], 'Recall': [], 'F1-Score': [], 'ROC_AUC': [],\n",
    "               'Specificity': []}  # Removed FNR and FPR\n",
    "    conf_matrix_sum = np.zeros((2, 2))  # Initialize Confusion Matrix sum\n",
    "    tprs = []  # Store True Positive Rates for ROC\n",
    "    mean_fpr = np.linspace(0, 1, 100)  # Standard FPR values for averaging\n",
    "    aucs = []\n",
    "\n",
    "    for train_index, test_index in kf.split(X_meta,y_res):\n",
    "        X_train_meta, X_test_meta = X_meta[train_index], X_meta[test_index]\n",
    "        y_train_meta, y_test_meta = y_res[train_index], y_res[test_index]\n",
    "\n",
    "        # Logistic Regression as meta model\n",
    "        if meta_model_type == 'Logistic Regression':\n",
    "            meta_model = LogisticRegression(random_state=42, solver='liblinear')\n",
    "            meta_model.fit(X_train_meta, y_train_meta)\n",
    "            y_pred = meta_model.predict(X_test_meta)\n",
    "            y_prob = meta_model.predict_proba(X_test_meta)[:, 1]\n",
    "\n",
    "        # Gradient Boosting as meta model\n",
    "        elif meta_model_type == 'Gradient Boosting':\n",
    "            meta_model = GradientBoostingClassifier(random_state=42)\n",
    "            meta_model.fit(X_train_meta, y_train_meta)\n",
    "            y_pred = meta_model.predict(X_test_meta)\n",
    "            y_prob = meta_model.predict_proba(X_test_meta)[:, 1]\n",
    "\n",
    "        # DNN as meta model (Ensure create_dnn_model is defined elsewhere)\n",
    "        elif meta_model_type == 'DNN':\n",
    "            meta_model = create_dnn_model(X_train_meta.shape[1])  # Define this function\n",
    "            meta_model.fit(X_train_meta, y_train_meta, epochs=10, verbose=0, batch_size=32)\n",
    "            y_prob = meta_model.predict(X_test_meta).ravel()\n",
    "            y_pred = (y_prob > 0.5).astype(int)\n",
    "\n",
    "        # Calculate metrics\n",
    "        metrics['Accuracy'].append(accuracy_score(y_test_meta, y_pred))\n",
    "        metrics['Precision'].append(precision_score(y_test_meta, y_pred, zero_division=1))\n",
    "        metrics['Recall'].append(recall_score(y_test_meta, y_pred, zero_division=1))\n",
    "        metrics['F1-Score'].append(f1_score(y_test_meta, y_pred))\n",
    "        metrics['ROC_AUC'].append(roc_auc_score(y_test_meta, y_prob))\n",
    "\n",
    "        # Aggregate confusion matrix\n",
    "        conf_matrix = confusion_matrix(y_test_meta, y_pred)\n",
    "        conf_matrix_sum += conf_matrix\n",
    "\n",
    "        # Compute Specificity\n",
    "        TN, FP, FN, TP = conf_matrix.ravel()\n",
    "        specificity = TN / (TN + FP)\n",
    "\n",
    "        metrics['Specificity'].append(specificity)\n",
    "\n",
    "        # Compute ROC Curve\n",
    "        fpr_vals, tpr, _ = roc_curve(y_test_meta, y_prob)\n",
    "        tprs.append(np.interp(mean_fpr, fpr_vals, tpr))  # Interpolate TPR\n",
    "        tprs[-1][0] = 0.0  # Ensure TPR starts at 0\n",
    "        roc_auc = auc(fpr_vals, tpr)\n",
    "        aucs.append(roc_auc)\n",
    "\n",
    "    # Average ROC Curve\n",
    "    mean_tpr = np.mean(tprs, axis=0)\n",
    "    mean_tpr[-1] = 1.0  # Ensure TPR ends at 1\n",
    "    mean_auc = auc(mean_fpr, mean_tpr)\n",
    "\n",
    "    # Normalize confusion matrix for display\n",
    "    conf_matrix_avg = conf_matrix_sum / 10\n",
    "\n",
    "    # Display confusion matrix using seaborn heatmap\n",
    "    plt.figure(figsize=(7, 5))\n",
    "    sns.heatmap(conf_matrix_avg, annot=True, fmt='.2f', cmap='Blues', \n",
    "                xticklabels=[0, 1], yticklabels=[0, 1], cbar=False)\n",
    "    plt.title(f\"Confusion Matrix\")\n",
    "    plt.xlabel('Predicted Label')\n",
    "    plt.ylabel('True Label')\n",
    "    plt.show()\n",
    "\n",
    "    # Display averaged ROC Curve\n",
    "    plt.figure()\n",
    "    plt.plot(mean_fpr, mean_tpr, color='b', label=f'Mean ROC (AUC = {mean_auc:.2f})', lw=2)\n",
    "    plt.fill_between(mean_fpr, mean_tpr - np.std(tprs, axis=0), mean_tpr + np.std(tprs, axis=0), color='blue', alpha=0.2)\n",
    "    plt.plot([0, 1], [0, 1], color='r', linestyle='--', lw=2)\n",
    "    plt.title(f\"ROC Curve\")\n",
    "    plt.xlabel('False Positive Rate')\n",
    "    plt.ylabel('True Positive Rate')\n",
    "    plt.legend(loc=\"lower right\")\n",
    "    plt.show()\n",
    "\n",
    "    return {k: np.mean(v) for k, v in metrics.items()}\n",
    "\n",
    "final_results = {}\n",
    "for meta_model_type in ['Logistic Regression', 'Gradient Boosting', 'DNN']:\n",
    "    print(f\"Đang chạy mô hình Stacking với Meta Model: {meta_model_type}\")\n",
    "    metrics = stacking_model_with_kfold_avg_metrics(Xnp, ynp, meta_model_type)\n",
    "    final_results[meta_model_type] = metrics\n",
    "    print(f\"\\nKết quả cho {meta_model_type}:\")\n",
    "    for metric, value in metrics.items():\n",
    "        print(f\"{metric.capitalize()}: {value:.4f}\")\n",
    "\n",
    "# Hiển thị kết quả cuối cùng trong DataFrame\n",
    "results_df = pd.DataFrame(final_results).T\n",
    "print(\"\\nTổng hợp kết quả cuối cùng:\")\n",
    "results_df"
   ]
  },
  {
   "cell_type": "code",
   "execution_count": null,
   "metadata": {},
   "outputs": [],
   "source": [
    "results_df.round(4)"
   ]
  },
  {
   "cell_type": "code",
   "execution_count": 79,
   "metadata": {},
   "outputs": [],
   "source": [
    "results_df.to_csv('StackingModel.csv')"
   ]
  },
  {
   "cell_type": "code",
   "execution_count": 80,
   "metadata": {},
   "outputs": [],
   "source": [
    "results_df = pd.read_csv(r\"D:\\NCKH\\CHURN PREDICTION\\CCP 03\\Result\\Results\\3 stacking\\StackingModel.csv\")"
   ]
  },
  {
   "cell_type": "code",
   "execution_count": null,
   "metadata": {},
   "outputs": [],
   "source": [
    "plt.figure(figsize=(10, 6))\n",
    "\n",
    "plot_data = results_df.set_index('Model').T\n",
    "\n",
    "x_values = plot_data.index\n",
    "\n",
    "for model in plot_data.columns:\n",
    "    plt.plot(x_values, plot_data[model], marker='o', label=model)\n",
    "\n",
    "plt.title('Model Performance Comparison')\n",
    "plt.xlabel('Metric')\n",
    "plt.ylabel('Metric Value')\n",
    "plt.xticks(rotation=90, ha='right')\n",
    "plt.legend()\n",
    "plt.grid(True)\n",
    "plt.tight_layout()\n",
    "plt.show()"
   ]
  },
  {
   "cell_type": "markdown",
   "metadata": {},
   "source": [
    "# **Features Analysis**"
   ]
  },
  {
   "cell_type": "code",
   "execution_count": null,
   "metadata": {},
   "outputs": [],
   "source": [
    "smote_enn = SMOTEENN(random_state=42)\n",
    "X, y = smote_enn.fit_resample(Xnp, ynp)\n",
    "\n",
    "# Các mô hình cơ bản\n",
    "base_estimators = [\n",
    "    ('knn', KNeighborsClassifier(n_neighbors=3, p=1, weights='distance')),\n",
    "    ('rf', RandomForestClassifier(max_depth=109, max_features='sqrt', min_samples_leaf=1, min_samples_split=2, n_estimators=191, random_state=42)),\n",
    "    ('lr', LogisticRegression(random_state=42, C=99.04073752993764, penalty='l1', solver='saga')),\n",
    "    ('xgb', XGBClassifier(use_label_encoder=False, eval_metric='logloss', colsample_bytree=0.8648, gamma=0.0328, learning_rate=0.298, max_depth=6, min_child_weight=2, n_estimators=195, reg_alpha=0, reg_lambda=1, subsample=0.8081, random_state=42))\n",
    "]\n",
    "\n",
    "# Cấu hình StratifiedKFold cho mô hình cơ bản\n",
    "skf = StratifiedKFold(n_splits=10, shuffle=True, random_state=42)\n",
    "base_model_predictions = []\n",
    "\n",
    "# Thu thập dự đoán từ các mô hình cơ bản sử dụng StratifiedKFold\n",
    "for name, model in base_estimators:\n",
    "    model_predictions = np.zeros_like(y)\n",
    "    for train_index, test_index in skf.split(X, y):\n",
    "        X_train, X_test = X[train_index], X[test_index]\n",
    "        y_train, y_test = y[train_index], y[test_index]\n",
    "        model.fit(X_train, y_train)\n",
    "        model_predictions[test_index] = model.predict(X_test)\n",
    "    base_model_predictions.append(model_predictions)\n",
    "\n",
    "# Kết hợp các dự đoán thành các đặc trưng mới\n",
    "X_meta = np.column_stack(base_model_predictions)\n",
    "\n",
    "# Chia dữ liệu thành train/test với tỉ lệ 80/20\n",
    "X_train_meta, X_test_meta, y_train_meta, y_test_meta = train_test_split(X_meta, y, test_size=0.2, random_state=42, stratify=y)\n",
    "\n",
    "# Huấn luyện mô hình meta (DNN) sử dụng dữ liệu train/test\n",
    "meta_model = create_dnn_model(X_train_meta.shape[1])\n",
    "meta_model.fit(X_train_meta, y_train_meta)\n",
    "\n",
    "# Dự đoán nhãn và xác suất cho dữ liệu test\n",
    "y_pred = meta_model.predict(X_test_meta)\n",
    "y_prob = y_pred  # Dự đoán đã trả về xác suất nhãn dương\n",
    "\n",
    "# Tính toán các chỉ số\n",
    "metrics = {\n",
    "    'Accuracy': accuracy_score(y_test_meta, (y_pred > 0.5)),  # Chuyển xác suất thành nhãn phân loại\n",
    "    'Precision': precision_score(y_test_meta, (y_pred > 0.5), zero_division=1),\n",
    "    'Recall': recall_score(y_test_meta, (y_pred > 0.5), zero_division=1),\n",
    "    'F1-Score': f1_score(y_test_meta, (y_pred > 0.5)),\n",
    "    'ROC_AUC': roc_auc_score(y_test_meta, y_prob)  # Sử dụng xác suất cho ROC AUC\n",
    "}\n",
    "\n",
    "# Chuyển các chỉ số thành DataFrame\n",
    "metrics_df = pd.DataFrame(list(metrics.items()), columns=['Metric', 'Value'])\n",
    "\n",
    "# Hiển thị bảng các chỉ số\n",
    "print(metrics_df)\n",
    "\n",
    "# Confusion Matrix và Heatmap\n",
    "cm = confusion_matrix(y_test_meta, (y_pred > 0.5))\n",
    "\n",
    "# Create a heatmap for the confusion matrix\n",
    "plt.figure(figsize=(7, 5))\n",
    "sns.heatmap(cm, annot=True, fmt='d', cmap='Blues')\n",
    "plt.title(\"Confusion Matrix of Meta Model\")\n",
    "plt.xlabel(\"Predicted\")\n",
    "plt.ylabel(\"Actual\")\n",
    "plt.show()"
   ]
  },
  {
   "cell_type": "code",
   "execution_count": null,
   "metadata": {},
   "outputs": [],
   "source": [
    "metrics_df"
   ]
  },
  {
   "cell_type": "code",
   "execution_count": null,
   "metadata": {},
   "outputs": [],
   "source": [
    "explainer = shap.Explainer(meta_model, X_train_meta)\n",
    "shap_values = explainer(X_test_meta)"
   ]
  },
  {
   "cell_type": "code",
   "execution_count": null,
   "metadata": {},
   "outputs": [],
   "source": [
    "shap.summary_plot(shap_values, X_test_meta)\n",
    "plt.show()"
   ]
  },
  {
   "cell_type": "code",
   "execution_count": 88,
   "metadata": {
    "collapsed": true,
    "jupyter": {
     "outputs_hidden": true
    }
   },
   "outputs": [],
   "source": [
    "# smote_enn = SMOTEENN(random_state=42)\n",
    "# X, y = smote_enn.fit_resample(Xraw, yraw)\n",
    "\n",
    "# # Base models\n",
    "# base_estimators = [\n",
    "#     ('knn', KNeighborsClassifier(n_neighbors=3, p=1, weights='distance')),\n",
    "#     ('rf', RandomForestClassifier(max_depth=109, max_features='sqrt', min_samples_leaf=1, min_samples_split=2, n_estimators=191, random_state=42)),\n",
    "#     ('lr', LogisticRegression(random_state=42,C=99.04073752993764,penalty='l1',solver='saga')),\n",
    "#     ('xgb', XGBClassifier(use_label_encoder=False, eval_metric='logloss', colsample_bytree=0.8648, gamma=0.0328, learning_rate=0.298, max_depth=6, min_child_weight=2, n_estimators=195, reg_alpha=0, reg_lambda=1, subsample=0.8081, random_state=42))\n",
    "# ]\n",
    "\n",
    "# # KFold setup for base models (used for base model prediction collection)\n",
    "# skf = StratifiedKFold(n_splits=10, shuffle=True, random_state=42)\n",
    "# base_model_predictions = []\n",
    "\n",
    "# # Collect predictions from base models using StratifiedKFold\n",
    "# for name, model in base_estimators:\n",
    "#     model_predictions = np.zeros_like(y)\n",
    "#     for train_index, test_index in skf.split(X, y):  # Pass both X and y here\n",
    "#         X_train, X_test = X.iloc[train_index], X.iloc[test_index]  # Use .iloc for DataFrame slicing\n",
    "#         y_train, y_test = y[train_index], y[test_index]\n",
    "#         model.fit(X_train, y_train)\n",
    "#         model_predictions[test_index] = model.predict(X_test)\n",
    "#     base_model_predictions.append(model_predictions)\n",
    "\n",
    "# # Combine predictions as new features\n",
    "# X_meta = np.column_stack(base_model_predictions)\n",
    "\n",
    "# # Now use train_test_split for an 80/20 split\n",
    "# X_train_meta, X_test_meta, y_train_meta, y_test_meta = train_test_split(X_meta, y, test_size=0.2, random_state=42, stratify=y)\n",
    "\n",
    "# # Train meta model (GradientBoostingClassifier) using the 80/20 split\n",
    "# meta_model = GradientBoostingClassifier(random_state=42)\n",
    "# meta_model.fit(X_train_meta, y_train_meta)\n",
    "# y_pred = meta_model.predict(X_test_meta)\n",
    "# y_prob = meta_model.predict_proba(X_test_meta)[:, 1]\n",
    "\n",
    "# metrics = {\n",
    "#     'Accuracy': accuracy_score(y_test_meta, y_pred),\n",
    "#     'Precision': precision_score(y_test_meta, y_pred, zero_division=1),\n",
    "#     'Recall': recall_score(y_test_meta, y_pred, zero_division=1),\n",
    "#     'F1-Score': f1_score(y_test_meta, y_pred),\n",
    "#     'ROC_AUC': roc_auc_score(y_test_meta, y_prob)\n",
    "# }\n",
    "\n",
    "# # Convert metrics dictionary to DataFrame\n",
    "# metrics_df = pd.DataFrame(list(metrics.items()), columns=['Metric', 'Value'])\n",
    "\n",
    "# # Display the DataFrame\n",
    "# print(metrics_df)\n",
    "\n",
    "# # Confusion Matrix and Heatmap\n",
    "# cm = confusion_matrix(y_test_meta, y_pred)\n",
    "\n",
    "# # Create a heatmap for the confusion matrix\n",
    "# plt.figure(figsize=(7, 5))\n",
    "# sns.heatmap(cm, annot=True, fmt='d', cmap='Blues')\n",
    "# plt.title(\"Confusion Matrix of Meta Model\")\n",
    "# plt.xlabel(\"Predicted\")\n",
    "# plt.ylabel(\"Actual\")\n",
    "# plt.show()"
   ]
  },
  {
   "cell_type": "code",
   "execution_count": 89,
   "metadata": {},
   "outputs": [],
   "source": [
    "metrics_df.to_csv('finalModel.csv')"
   ]
  },
  {
   "cell_type": "code",
   "execution_count": null,
   "metadata": {
    "colab": {
     "base_uri": "https://localhost:8080/",
     "height": 617
    },
    "executionInfo": {
     "elapsed": 2003,
     "status": "ok",
     "timestamp": 1735141632362,
     "user": {
      "displayName": "Tâm Lương",
      "userId": "09418611173666618637"
     },
     "user_tz": -420
    },
    "id": "9jhga3vKf6hR",
    "outputId": "6fc6c01b-eb2b-4929-861c-438944d9161f"
   },
   "outputs": [],
   "source": [
    "shap.plots.waterfall(shap_values[0])"
   ]
  },
  {
   "cell_type": "code",
   "execution_count": null,
   "metadata": {
    "colab": {
     "base_uri": "https://localhost:8080/",
     "height": 585
    },
    "executionInfo": {
     "elapsed": 871,
     "status": "ok",
     "timestamp": 1735141755872,
     "user": {
      "displayName": "Tâm Lương",
      "userId": "09418611173666618637"
     },
     "user_tz": -420
    },
    "id": "X-DkqdpvgZSQ",
    "outputId": "d4f519d2-d099-4669-f157-810f5748a967"
   },
   "outputs": [],
   "source": [
    "shap.plots.bar(shap_values)"
   ]
  },
  {
   "cell_type": "code",
   "execution_count": null,
   "metadata": {
    "colab": {
     "base_uri": "https://localhost:8080/",
     "height": 514
    },
    "executionInfo": {
     "elapsed": 2563,
     "status": "ok",
     "timestamp": 1735141810855,
     "user": {
      "displayName": "Tâm Lương",
      "userId": "09418611173666618637"
     },
     "user_tz": -420
    },
    "id": "IjJmJCJxgrAA",
    "outputId": "28e32ddb-774b-490c-ad2a-ab43124411ec"
   },
   "outputs": [],
   "source": [
    "shap.plots.beeswarm(shap_values)"
   ]
  },
  {
   "cell_type": "markdown",
   "metadata": {},
   "source": [
    "# LR"
   ]
  },
  {
   "cell_type": "code",
   "execution_count": null,
   "metadata": {
    "id": "-LMT22c7gveM"
   },
   "outputs": [],
   "source": [
    "smote_enn = SMOTEENN(random_state=42)\n",
    "X_resampled, y_resampled = smote_enn.fit_resample(Xraw, yraw)\n",
    "\n",
    "# Bước 2: Tách dữ liệu thành 80% huấn luyện và 20% kiểm tra\n",
    "X_train, X_test, y_train, y_test = train_test_split(X_resampled, y_resampled, test_size=0.2, random_state=42)\n",
    "\n",
    "# Bước 3: Khởi tạo mô hình Logistic Regression với các tham số\n",
    "LR_model = LogisticRegression(random_state=42, \n",
    "                              C=99.04073752993764, \n",
    "                              penalty='l1', \n",
    "                              solver='saga')\n",
    "\n",
    "# Bước 4: Huấn luyện mô hình\n",
    "LR_model.fit(X_train, y_train)\n",
    "\n",
    "# Bước 5: Dự đoán và đánh giá mô hình\n",
    "y_pred = LR_model.predict(X_test)\n",
    "\n",
    "# Bước 6: Tính toán các chỉ số\n",
    "metrics = {\n",
    "    \"Metric\": [\"Accuracy\", \"Precision\", \"Recall\", \"F1-Score\"],\n",
    "    \"Value\": [\n",
    "        accuracy_score(y_test, y_pred),\n",
    "        precision_score(y_test, y_pred, average='binary'),  # Điều chỉnh average nếu cần\n",
    "        recall_score(y_test, y_pred, average='binary'),\n",
    "        f1_score(y_test, y_pred, average='binary')\n",
    "    ]\n",
    "}\n",
    "\n",
    "# Chuyển thành DataFrame\n",
    "metrics_df = pd.DataFrame(metrics)\n",
    "\n",
    "# Bước 7: In DataFrame\n",
    "print(metrics_df)\n",
    "\n",
    "# Vẽ confusion matrix\n",
    "conf_matrix = confusion_matrix(y_test, y_pred)\n",
    "plt.figure(figsize=(8, 6))\n",
    "sns.heatmap(conf_matrix, annot=True, fmt='d', cmap='Blues')\n",
    "plt.title(\"Confusion Matrix\")\n",
    "plt.xlabel(\"Predicted\")\n",
    "plt.ylabel(\"Actual\")\n",
    "plt.show()\n"
   ]
  },
  {
   "cell_type": "code",
   "execution_count": 44,
   "metadata": {},
   "outputs": [],
   "source": [
    "metrics_df.to_csv('resultLR.csv')"
   ]
  },
  {
   "cell_type": "code",
   "execution_count": 42,
   "metadata": {},
   "outputs": [],
   "source": [
    "explainerLR = shap.Explainer(LR_model, X_train)\n",
    "shap_valuesLR = explainerLR(X_test)"
   ]
  },
  {
   "cell_type": "code",
   "execution_count": null,
   "metadata": {},
   "outputs": [],
   "source": [
    "shap.summary_plot(shap_valuesLR, X_test)\n",
    "plt.show()"
   ]
  },
  {
   "cell_type": "code",
   "execution_count": null,
   "metadata": {
    "collapsed": true,
    "jupyter": {
     "outputs_hidden": true
    }
   },
   "outputs": [],
   "source": [
    "features = ['Total_Trans_Amt','Total_Trans_Ct','PCA_Trans','Total_Relationship_Count','Total_Revolving_Bal']\n",
    "\n",
    "# Kiểm tra xem các đặc trưng có trong dữ liệu X_resampled không\n",
    "for feature in features:\n",
    "    if feature in X_test.columns:\n",
    "        plt.figure(figsize=(10, 6))\n",
    "        \n",
    "        # Trích xuất giá trị SHAP\n",
    "        shap_values_np = shap_valuesLR.values\n",
    "        \n",
    "        # Kiểm tra kiểu dữ liệu của shap_values\n",
    "        if isinstance(shap_values_np, np.ndarray):\n",
    "            # Vẽ biểu đồ SHAP đối với mỗi đặc trưng\n",
    "            shap.dependence_plot(feature, shap_values_np, X_test)\n",
    "            plt.title(f\"Shapley Dependence Plot for '{feature}' Feature\")\n",
    "            plt.show()\n",
    "        else:\n",
    "            print(f\"Shapley values are not in a valid NumPy array format for feature '{feature}'.\")\n",
    "    else:\n",
    "        print(f\"Feature '{feature}' does not exist in the dataset.\")"
   ]
  },
  {
   "cell_type": "code",
   "execution_count": null,
   "metadata": {},
   "outputs": [],
   "source": [
    "shap.plots.waterfall(shap_valuesLR[0])"
   ]
  },
  {
   "cell_type": "code",
   "execution_count": null,
   "metadata": {},
   "outputs": [],
   "source": [
    "shap.initjs()"
   ]
  },
  {
   "cell_type": "code",
   "execution_count": null,
   "metadata": {},
   "outputs": [],
   "source": [
    "shap.plots.force(shap_valuesLR[0])"
   ]
  },
  {
   "cell_type": "code",
   "execution_count": null,
   "metadata": {},
   "outputs": [],
   "source": [
    "shap.plots.force(shap_valuesLR[:100])"
   ]
  },
  {
   "cell_type": "code",
   "execution_count": 49,
   "metadata": {},
   "outputs": [],
   "source": [
    "shap.save_html('shap_force_plot.html', shap.force_plot(shap_valuesLR[:100]))"
   ]
  },
  {
   "cell_type": "code",
   "execution_count": null,
   "metadata": {},
   "outputs": [],
   "source": [
    "shap.plots.bar(shap_values)"
   ]
  },
  {
   "cell_type": "code",
   "execution_count": null,
   "metadata": {},
   "outputs": [],
   "source": [
    "shap.plots.beeswarm(shap_values)"
   ]
  },
  {
   "cell_type": "code",
   "execution_count": null,
   "metadata": {},
   "outputs": [],
   "source": [
    "coefficients = LR_model.coef_[0]\n",
    "intercept = LR_model.intercept_\n",
    "features = X_train.columns\n",
    "coeff_df = pd.DataFrame({'Feature': features, 'Coefficient': coefficients})\n",
    "intercept_df = pd.DataFrame({'Feature': ['Intercept'], 'Coefficient': [intercept]})\n",
    "coeff_df = pd.concat([coeff_df, intercept_df], ignore_index=True)\n",
    "coeff_df"
   ]
  },
  {
   "cell_type": "code",
   "execution_count": 95,
   "metadata": {},
   "outputs": [],
   "source": [
    "coeff_df.to_csv('coefficient.csv')"
   ]
  },
  {
   "cell_type": "code",
   "execution_count": null,
   "metadata": {},
   "outputs": [],
   "source": [
    "coeff_df"
   ]
  },
  {
   "cell_type": "code",
   "execution_count": null,
   "metadata": {},
   "outputs": [],
   "source": [
    "Xraw.shape"
   ]
  }
 ],
 "metadata": {
  "accelerator": "GPU",
  "colab": {
   "authorship_tag": "ABX9TyN0jVSq9RU68ZjPk4Z7rvGP",
   "collapsed_sections": [
    "VV2gEbk-2HvU",
    "9PrcVAp64EKl",
    "FK-TTfUBOD6s",
    "7yPtH81ePTMt",
    "UlzybY0gUEbl",
    "0wgiWRGUV03z",
    "RNgi6FQkWN0H",
    "r0AffURDYY0h",
    "RAr5Hu5sZDoY",
    "TIqlC_72Zxqu",
    "J8X1CoH6dP18",
    "7cBGLsbYhnyt",
    "oiJ81A0eleFW",
    "9ihIPk405zYg",
    "261d0bO46IdP",
    "Uid0fMMQBpur",
    "DJqHN6IeOddZ",
    "baj-IlGKuoyJ"
   ],
   "gpuType": "T4",
   "mount_file_id": "1ijoGRN7gnTnHWKCDooCOl4SQoJcQQENI",
   "provenance": []
  },
  "kernelspec": {
   "display_name": "Python 3",
   "language": "python",
   "name": "python3"
  },
  "language_info": {
   "codemirror_mode": {
    "name": "ipython",
    "version": 3
   },
   "file_extension": ".py",
   "mimetype": "text/x-python",
   "name": "python",
   "nbconvert_exporter": "python",
   "pygments_lexer": "ipython3",
   "version": "3.12.7"
  }
 },
 "nbformat": 4,
 "nbformat_minor": 4
}
